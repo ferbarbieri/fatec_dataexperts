{
 "cells": [
  {
   "cell_type": "code",
   "execution_count": null,
   "id": "a7883a68",
   "metadata": {
    "papermill": {
     "duration": 0.023241,
     "end_time": "2023-08-03T00:16:35.315710",
     "exception": false,
     "start_time": "2023-08-03T00:16:35.292469",
     "status": "completed"
    },
    "tags": []
   },
   "outputs": [],
   "source": []
  },
  {
   "cell_type": "markdown",
   "id": "6b38a28d",
   "metadata": {
    "papermill": {
     "duration": 0.021331,
     "end_time": "2023-08-03T00:16:35.360671",
     "exception": false,
     "start_time": "2023-08-03T00:16:35.339340",
     "status": "completed"
    },
    "tags": []
   },
   "source": [
    "## Introdução ao Projeto de Análise de Dados do Campeonato Brasileiro (2003-2022)\n"
   ]
  },
  {
   "cell_type": "markdown",
   "id": "d1a621ae",
   "metadata": {
    "papermill": {
     "duration": 0.022201,
     "end_time": "2023-08-03T00:16:35.404851",
     "exception": false,
     "start_time": "2023-08-03T00:16:35.382650",
     "status": "completed"
    },
    "tags": []
   },
   "source": [
    "Neste projeto, teremos a oportunidade de mergulhar nos dados detalhados das partidas do Campeonato Brasileiro no período entre 2003 e 2022. Ao explorar esses dados, nosso objetivo é obter insights que nos ajudem a compreender melhor esse torneio tão prestigiado e querido pelos brasileiros. \n",
    "\n",
    "O principal objetivo deste estudo é utilizar quatro datasets disponíveis no Kaggle (https://www.kaggle.com/datasets/adaoduque/campeonato-brasileiro-de-futebol) para aprofundar nossa compreensão do Campeonato Brasileiro ao longo desses anos.\n",
    "\n",
    "As quatro fontes de dados utilizadas neste projeto incluem:\n",
    "\n",
    "campeonato-brasileiro-full.csv: Contém informações fundamentais sobre cada partida, como ID, rodada, data, horário, dia da semana, clubes mandante e visitante, formação de ambos os times, técnicos, vencedor (ou empate) da partida, arena em que ocorreu o jogo e os placares finais.\n",
    "\n",
    "campeonato-brasileiro-estatisticas-full.csv: Oferece estatísticas detalhadas dos clubes em cada partida, incluindo chutes, chutes a gol, posse de bola, quantidade e precisão de passes, faltas cometidas, cartões amarelos e vermelhos recebidos, impedimentos e escanteios.\n",
    "\n",
    "campeonato-brasileiro-gols.csv: Fornece informações específicas sobre cada gol marcado em todas as edições do campeonato, incluindo o atleta responsável, o minuto em que o gol foi feito e o clube ao qual o atleta pertence.\n",
    "\n",
    "campeonato-brasileiro-cartoes.csv: Detalha os cartões aplicados em cada partida, indicando o clube, o tipo de cartão (amarelo ou vermelho), o atleta punido, o número de camisa do atleta, sua posição na partida e o minuto em que o cartão foi concedido.\n",
    "\n",
    "Com base nesses datasets, responderemos 8 perguntas, que abrangem desde o desempenho dos clubes ao longo do tempo até as estatísticas individuais dos jogadores nas partidas."
   ]
  },
  {
   "cell_type": "markdown",
   "id": "1e21ed8f",
   "metadata": {
    "papermill": {
     "duration": 0.022166,
     "end_time": "2023-08-03T00:16:35.449541",
     "exception": false,
     "start_time": "2023-08-03T00:16:35.427375",
     "status": "completed"
    },
    "tags": []
   },
   "source": [
    "## Importação dos Pacotes"
   ]
  },
  {
   "cell_type": "code",
   "execution_count": 1,
   "id": "37e47788",
   "metadata": {
    "execution": {
     "iopub.execute_input": "2023-08-03T00:16:35.496960Z",
     "iopub.status.busy": "2023-08-03T00:16:35.496100Z",
     "iopub.status.idle": "2023-08-03T00:16:36.826855Z",
     "shell.execute_reply": "2023-08-03T00:16:36.825660Z"
    },
    "papermill": {
     "duration": 1.357493,
     "end_time": "2023-08-03T00:16:36.829702",
     "exception": false,
     "start_time": "2023-08-03T00:16:35.472209",
     "status": "completed"
    },
    "tags": []
   },
   "outputs": [],
   "source": [
    "# Imports\n",
    "import numpy as np\n",
    "import pandas as pd\n",
    "import matplotlib.pyplot as plt\n",
    "import seaborn as sns\n",
    "import datetime as dt\n",
    "import warnings\n",
    "\n",
    "# Desativar os avisos do pandas temporariamente\n",
    "warnings.filterwarnings('ignore')"
   ]
  },
  {
   "cell_type": "markdown",
   "id": "3af88084",
   "metadata": {
    "papermill": {
     "duration": 0.022231,
     "end_time": "2023-08-03T00:16:36.874704",
     "exception": false,
     "start_time": "2023-08-03T00:16:36.852473",
     "status": "completed"
    },
    "tags": []
   },
   "source": [
    "## Carregando os Dados"
   ]
  },
  {
   "cell_type": "code",
   "execution_count": 2,
   "id": "0548ab39",
   "metadata": {
    "execution": {
     "iopub.execute_input": "2023-08-03T00:16:36.921409Z",
     "iopub.status.busy": "2023-08-03T00:16:36.921013Z",
     "iopub.status.idle": "2023-08-03T00:16:37.110905Z",
     "shell.execute_reply": "2023-08-03T00:16:37.110002Z"
    },
    "papermill": {
     "duration": 0.215992,
     "end_time": "2023-08-03T00:16:37.113510",
     "exception": false,
     "start_time": "2023-08-03T00:16:36.897518",
     "status": "completed"
    },
    "tags": []
   },
   "outputs": [],
   "source": [
    "# Carregamento\n",
    "df_full = pd.read_csv('datasets/brasileirao/campeonato-brasileiro-full.csv')\n",
    "df_est_full = pd.read_csv('datasets/brasileirao/campeonato-brasileiro-estatisticas-full.csv')\n",
    "df_gols = pd.read_csv('datasets/brasileirao/campeonato-brasileiro-gols.csv')\n",
    "df_cartoes = pd.read_csv('datasets/brasileirao/campeonato-brasileiro-cartoes.csv')"
   ]
  },
  {
   "cell_type": "code",
   "execution_count": 3,
   "id": "676cac25",
   "metadata": {
    "execution": {
     "iopub.execute_input": "2023-08-03T00:16:37.159816Z",
     "iopub.status.busy": "2023-08-03T00:16:37.159406Z",
     "iopub.status.idle": "2023-08-03T00:16:37.165871Z",
     "shell.execute_reply": "2023-08-03T00:16:37.164865Z"
    },
    "papermill": {
     "duration": 0.032195,
     "end_time": "2023-08-03T00:16:37.168178",
     "exception": false,
     "start_time": "2023-08-03T00:16:37.135983",
     "status": "completed"
    },
    "tags": []
   },
   "outputs": [
    {
     "name": "stdout",
     "output_type": "stream",
     "text": [
      "campeonato-brasileiro-full.csv tem 8405 linhas e 16 colunas.\n",
      "campeonato-brasileiro-estatisticas-full.csv tem 16810 linhas e 13 colunas.\n",
      "campeonato-brasileiro-gols.csv tem 8932 linhas e 6 colunas.\n",
      "campeonato-brasileiro-cartoes.csv tem 18857 linhas e 8 colunas.\n"
     ]
    }
   ],
   "source": [
    "print(f\"campeonato-brasileiro-full.csv tem {df_full.shape[0]} linhas e {df_full.shape[1]} colunas.\")\n",
    "print(f\"campeonato-brasileiro-estatisticas-full.csv tem {df_est_full.shape[0]} linhas e {df_est_full.shape[1]} colunas.\")\n",
    "print(f\"campeonato-brasileiro-gols.csv tem {df_gols.shape[0]} linhas e {df_gols.shape[1]} colunas.\")\n",
    "print(f\"campeonato-brasileiro-cartoes.csv tem {df_cartoes.shape[0]} linhas e {df_cartoes.shape[1]} colunas.\")"
   ]
  },
  {
   "cell_type": "code",
   "execution_count": 4,
   "id": "25c7cc92",
   "metadata": {
    "execution": {
     "iopub.execute_input": "2023-08-03T00:16:37.214959Z",
     "iopub.status.busy": "2023-08-03T00:16:37.214541Z",
     "iopub.status.idle": "2023-08-03T00:16:37.241199Z",
     "shell.execute_reply": "2023-08-03T00:16:37.240120Z"
    },
    "papermill": {
     "duration": 0.05336,
     "end_time": "2023-08-03T00:16:37.243641",
     "exception": false,
     "start_time": "2023-08-03T00:16:37.190281",
     "status": "completed"
    },
    "tags": []
   },
   "outputs": [
    {
     "data": {
      "text/html": [
       "<div>\n",
       "<style scoped>\n",
       "    .dataframe tbody tr th:only-of-type {\n",
       "        vertical-align: middle;\n",
       "    }\n",
       "\n",
       "    .dataframe tbody tr th {\n",
       "        vertical-align: top;\n",
       "    }\n",
       "\n",
       "    .dataframe thead th {\n",
       "        text-align: right;\n",
       "    }\n",
       "</style>\n",
       "<table border=\"1\" class=\"dataframe\">\n",
       "  <thead>\n",
       "    <tr style=\"text-align: right;\">\n",
       "      <th></th>\n",
       "      <th>ID</th>\n",
       "      <th>rodata</th>\n",
       "      <th>data</th>\n",
       "      <th>hora</th>\n",
       "      <th>mandante</th>\n",
       "      <th>visitante</th>\n",
       "      <th>formacao_mandante</th>\n",
       "      <th>formacao_visitante</th>\n",
       "      <th>tecnico_mandante</th>\n",
       "      <th>tecnico_visitante</th>\n",
       "      <th>vencedor</th>\n",
       "      <th>arena</th>\n",
       "      <th>mandante_Placar</th>\n",
       "      <th>visitante_Placar</th>\n",
       "      <th>mandante_Estado</th>\n",
       "      <th>visitante_Estado</th>\n",
       "    </tr>\n",
       "  </thead>\n",
       "  <tbody>\n",
       "    <tr>\n",
       "      <th>0</th>\n",
       "      <td>1</td>\n",
       "      <td>1</td>\n",
       "      <td>29/03/2003</td>\n",
       "      <td>16:00</td>\n",
       "      <td>Guarani</td>\n",
       "      <td>Vasco</td>\n",
       "      <td>NaN</td>\n",
       "      <td>NaN</td>\n",
       "      <td>NaN</td>\n",
       "      <td>NaN</td>\n",
       "      <td>Guarani</td>\n",
       "      <td>Brinco de Ouro</td>\n",
       "      <td>4</td>\n",
       "      <td>2</td>\n",
       "      <td>SP</td>\n",
       "      <td>RJ</td>\n",
       "    </tr>\n",
       "    <tr>\n",
       "      <th>1</th>\n",
       "      <td>2</td>\n",
       "      <td>1</td>\n",
       "      <td>29/03/2003</td>\n",
       "      <td>16:00</td>\n",
       "      <td>Athletico-PR</td>\n",
       "      <td>Gremio</td>\n",
       "      <td>NaN</td>\n",
       "      <td>NaN</td>\n",
       "      <td>NaN</td>\n",
       "      <td>NaN</td>\n",
       "      <td>Athletico-PR</td>\n",
       "      <td>Arena da Baixada</td>\n",
       "      <td>2</td>\n",
       "      <td>0</td>\n",
       "      <td>PR</td>\n",
       "      <td>RS</td>\n",
       "    </tr>\n",
       "    <tr>\n",
       "      <th>2</th>\n",
       "      <td>3</td>\n",
       "      <td>1</td>\n",
       "      <td>30/03/2003</td>\n",
       "      <td>16:00</td>\n",
       "      <td>Flamengo</td>\n",
       "      <td>Coritiba</td>\n",
       "      <td>NaN</td>\n",
       "      <td>NaN</td>\n",
       "      <td>NaN</td>\n",
       "      <td>NaN</td>\n",
       "      <td>-</td>\n",
       "      <td>Maracanã</td>\n",
       "      <td>1</td>\n",
       "      <td>1</td>\n",
       "      <td>RJ</td>\n",
       "      <td>PR</td>\n",
       "    </tr>\n",
       "    <tr>\n",
       "      <th>3</th>\n",
       "      <td>4</td>\n",
       "      <td>1</td>\n",
       "      <td>30/03/2003</td>\n",
       "      <td>16:00</td>\n",
       "      <td>Goias</td>\n",
       "      <td>Paysandu</td>\n",
       "      <td>NaN</td>\n",
       "      <td>NaN</td>\n",
       "      <td>NaN</td>\n",
       "      <td>NaN</td>\n",
       "      <td>-</td>\n",
       "      <td>Serra Dourada</td>\n",
       "      <td>2</td>\n",
       "      <td>2</td>\n",
       "      <td>GO</td>\n",
       "      <td>PA</td>\n",
       "    </tr>\n",
       "    <tr>\n",
       "      <th>4</th>\n",
       "      <td>5</td>\n",
       "      <td>1</td>\n",
       "      <td>30/03/2003</td>\n",
       "      <td>16:00</td>\n",
       "      <td>Internacional</td>\n",
       "      <td>Ponte Preta</td>\n",
       "      <td>NaN</td>\n",
       "      <td>NaN</td>\n",
       "      <td>NaN</td>\n",
       "      <td>NaN</td>\n",
       "      <td>-</td>\n",
       "      <td>Beira Rio</td>\n",
       "      <td>1</td>\n",
       "      <td>1</td>\n",
       "      <td>RS</td>\n",
       "      <td>SP</td>\n",
       "    </tr>\n",
       "  </tbody>\n",
       "</table>\n",
       "</div>"
      ],
      "text/plain": [
       "   ID  rodata        data   hora       mandante    visitante  \\\n",
       "0   1       1  29/03/2003  16:00        Guarani        Vasco   \n",
       "1   2       1  29/03/2003  16:00   Athletico-PR       Gremio   \n",
       "2   3       1  30/03/2003  16:00       Flamengo     Coritiba   \n",
       "3   4       1  30/03/2003  16:00          Goias     Paysandu   \n",
       "4   5       1  30/03/2003  16:00  Internacional  Ponte Preta   \n",
       "\n",
       "  formacao_mandante formacao_visitante tecnico_mandante tecnico_visitante  \\\n",
       "0               NaN                NaN              NaN               NaN   \n",
       "1               NaN                NaN              NaN               NaN   \n",
       "2               NaN                NaN              NaN               NaN   \n",
       "3               NaN                NaN              NaN               NaN   \n",
       "4               NaN                NaN              NaN               NaN   \n",
       "\n",
       "       vencedor              arena  mandante_Placar  visitante_Placar  \\\n",
       "0       Guarani     Brinco de Ouro                4                 2   \n",
       "1  Athletico-PR   Arena da Baixada                2                 0   \n",
       "2             -           Maracanã                1                 1   \n",
       "3             -      Serra Dourada                2                 2   \n",
       "4             -          Beira Rio                1                 1   \n",
       "\n",
       "  mandante_Estado visitante_Estado  \n",
       "0              SP               RJ  \n",
       "1              PR               RS  \n",
       "2              RJ               PR  \n",
       "3              GO               PA  \n",
       "4              RS               SP  "
      ]
     },
     "execution_count": 4,
     "metadata": {},
     "output_type": "execute_result"
    }
   ],
   "source": [
    "df_full.head()"
   ]
  },
  {
   "cell_type": "code",
   "execution_count": 5,
   "id": "f82b4686",
   "metadata": {
    "execution": {
     "iopub.execute_input": "2023-08-03T00:16:37.292434Z",
     "iopub.status.busy": "2023-08-03T00:16:37.291470Z",
     "iopub.status.idle": "2023-08-03T00:16:37.306366Z",
     "shell.execute_reply": "2023-08-03T00:16:37.305597Z"
    },
    "papermill": {
     "duration": 0.041042,
     "end_time": "2023-08-03T00:16:37.308376",
     "exception": false,
     "start_time": "2023-08-03T00:16:37.267334",
     "status": "completed"
    },
    "tags": []
   },
   "outputs": [
    {
     "data": {
      "text/html": [
       "<div>\n",
       "<style scoped>\n",
       "    .dataframe tbody tr th:only-of-type {\n",
       "        vertical-align: middle;\n",
       "    }\n",
       "\n",
       "    .dataframe tbody tr th {\n",
       "        vertical-align: top;\n",
       "    }\n",
       "\n",
       "    .dataframe thead th {\n",
       "        text-align: right;\n",
       "    }\n",
       "</style>\n",
       "<table border=\"1\" class=\"dataframe\">\n",
       "  <thead>\n",
       "    <tr style=\"text-align: right;\">\n",
       "      <th></th>\n",
       "      <th>partida_id</th>\n",
       "      <th>rodata</th>\n",
       "      <th>clube</th>\n",
       "      <th>chutes</th>\n",
       "      <th>chutes_no_alvo</th>\n",
       "      <th>posse_de_bola</th>\n",
       "      <th>passes</th>\n",
       "      <th>precisao_passes</th>\n",
       "      <th>faltas</th>\n",
       "      <th>cartao_amarelo</th>\n",
       "      <th>cartao_vermelho</th>\n",
       "      <th>impedimentos</th>\n",
       "      <th>escanteios</th>\n",
       "    </tr>\n",
       "  </thead>\n",
       "  <tbody>\n",
       "    <tr>\n",
       "      <th>0</th>\n",
       "      <td>1</td>\n",
       "      <td>1</td>\n",
       "      <td>Guarani</td>\n",
       "      <td>0</td>\n",
       "      <td>0</td>\n",
       "      <td>NaN</td>\n",
       "      <td>0</td>\n",
       "      <td>NaN</td>\n",
       "      <td>0</td>\n",
       "      <td>0</td>\n",
       "      <td>0</td>\n",
       "      <td>0</td>\n",
       "      <td>0</td>\n",
       "    </tr>\n",
       "    <tr>\n",
       "      <th>1</th>\n",
       "      <td>1</td>\n",
       "      <td>1</td>\n",
       "      <td>Vasco</td>\n",
       "      <td>0</td>\n",
       "      <td>0</td>\n",
       "      <td>NaN</td>\n",
       "      <td>0</td>\n",
       "      <td>NaN</td>\n",
       "      <td>0</td>\n",
       "      <td>0</td>\n",
       "      <td>0</td>\n",
       "      <td>0</td>\n",
       "      <td>0</td>\n",
       "    </tr>\n",
       "    <tr>\n",
       "      <th>2</th>\n",
       "      <td>2</td>\n",
       "      <td>1</td>\n",
       "      <td>Gremio</td>\n",
       "      <td>0</td>\n",
       "      <td>0</td>\n",
       "      <td>NaN</td>\n",
       "      <td>0</td>\n",
       "      <td>NaN</td>\n",
       "      <td>0</td>\n",
       "      <td>0</td>\n",
       "      <td>0</td>\n",
       "      <td>0</td>\n",
       "      <td>0</td>\n",
       "    </tr>\n",
       "    <tr>\n",
       "      <th>3</th>\n",
       "      <td>2</td>\n",
       "      <td>1</td>\n",
       "      <td>Athletico-PR</td>\n",
       "      <td>0</td>\n",
       "      <td>0</td>\n",
       "      <td>NaN</td>\n",
       "      <td>0</td>\n",
       "      <td>NaN</td>\n",
       "      <td>0</td>\n",
       "      <td>0</td>\n",
       "      <td>0</td>\n",
       "      <td>0</td>\n",
       "      <td>0</td>\n",
       "    </tr>\n",
       "    <tr>\n",
       "      <th>4</th>\n",
       "      <td>3</td>\n",
       "      <td>1</td>\n",
       "      <td>Coritiba</td>\n",
       "      <td>0</td>\n",
       "      <td>0</td>\n",
       "      <td>NaN</td>\n",
       "      <td>0</td>\n",
       "      <td>NaN</td>\n",
       "      <td>0</td>\n",
       "      <td>0</td>\n",
       "      <td>0</td>\n",
       "      <td>0</td>\n",
       "      <td>0</td>\n",
       "    </tr>\n",
       "  </tbody>\n",
       "</table>\n",
       "</div>"
      ],
      "text/plain": [
       "   partida_id  rodata         clube  chutes  chutes_no_alvo posse_de_bola  \\\n",
       "0           1       1       Guarani       0               0           NaN   \n",
       "1           1       1         Vasco       0               0           NaN   \n",
       "2           2       1        Gremio       0               0           NaN   \n",
       "3           2       1  Athletico-PR       0               0           NaN   \n",
       "4           3       1      Coritiba       0               0           NaN   \n",
       "\n",
       "   passes precisao_passes  faltas  cartao_amarelo  cartao_vermelho  \\\n",
       "0       0             NaN       0               0                0   \n",
       "1       0             NaN       0               0                0   \n",
       "2       0             NaN       0               0                0   \n",
       "3       0             NaN       0               0                0   \n",
       "4       0             NaN       0               0                0   \n",
       "\n",
       "   impedimentos  escanteios  \n",
       "0             0           0  \n",
       "1             0           0  \n",
       "2             0           0  \n",
       "3             0           0  \n",
       "4             0           0  "
      ]
     },
     "execution_count": 5,
     "metadata": {},
     "output_type": "execute_result"
    }
   ],
   "source": [
    "df_est_full.head()"
   ]
  },
  {
   "cell_type": "code",
   "execution_count": 6,
   "id": "c04a21fa",
   "metadata": {
    "execution": {
     "iopub.execute_input": "2023-08-03T00:16:37.356527Z",
     "iopub.status.busy": "2023-08-03T00:16:37.355458Z",
     "iopub.status.idle": "2023-08-03T00:16:37.368256Z",
     "shell.execute_reply": "2023-08-03T00:16:37.367230Z"
    },
    "papermill": {
     "duration": 0.039173,
     "end_time": "2023-08-03T00:16:37.370575",
     "exception": false,
     "start_time": "2023-08-03T00:16:37.331402",
     "status": "completed"
    },
    "tags": []
   },
   "outputs": [
    {
     "data": {
      "text/html": [
       "<div>\n",
       "<style scoped>\n",
       "    .dataframe tbody tr th:only-of-type {\n",
       "        vertical-align: middle;\n",
       "    }\n",
       "\n",
       "    .dataframe tbody tr th {\n",
       "        vertical-align: top;\n",
       "    }\n",
       "\n",
       "    .dataframe thead th {\n",
       "        text-align: right;\n",
       "    }\n",
       "</style>\n",
       "<table border=\"1\" class=\"dataframe\">\n",
       "  <thead>\n",
       "    <tr style=\"text-align: right;\">\n",
       "      <th></th>\n",
       "      <th>partida_id</th>\n",
       "      <th>rodata</th>\n",
       "      <th>clube</th>\n",
       "      <th>atleta</th>\n",
       "      <th>minuto</th>\n",
       "      <th>tipo_de_gol</th>\n",
       "    </tr>\n",
       "  </thead>\n",
       "  <tbody>\n",
       "    <tr>\n",
       "      <th>0</th>\n",
       "      <td>4607</td>\n",
       "      <td>1</td>\n",
       "      <td>Fluminense</td>\n",
       "      <td>Nirley da Silva Fonseca</td>\n",
       "      <td>59</td>\n",
       "      <td>Gol Contra</td>\n",
       "    </tr>\n",
       "    <tr>\n",
       "      <th>1</th>\n",
       "      <td>4607</td>\n",
       "      <td>1</td>\n",
       "      <td>Fluminense</td>\n",
       "      <td>Fred</td>\n",
       "      <td>45</td>\n",
       "      <td>Penalty</td>\n",
       "    </tr>\n",
       "    <tr>\n",
       "      <th>2</th>\n",
       "      <td>4607</td>\n",
       "      <td>1</td>\n",
       "      <td>Fluminense</td>\n",
       "      <td>Rafael Sóbis</td>\n",
       "      <td>31</td>\n",
       "      <td>NaN</td>\n",
       "    </tr>\n",
       "    <tr>\n",
       "      <th>3</th>\n",
       "      <td>4608</td>\n",
       "      <td>1</td>\n",
       "      <td>Internacional</td>\n",
       "      <td>Charles Aránguiz</td>\n",
       "      <td>6</td>\n",
       "      <td>NaN</td>\n",
       "    </tr>\n",
       "    <tr>\n",
       "      <th>4</th>\n",
       "      <td>4612</td>\n",
       "      <td>1</td>\n",
       "      <td>Cruzeiro</td>\n",
       "      <td>Nílton Ferreira Júnior</td>\n",
       "      <td>63</td>\n",
       "      <td>NaN</td>\n",
       "    </tr>\n",
       "  </tbody>\n",
       "</table>\n",
       "</div>"
      ],
      "text/plain": [
       "   partida_id  rodata          clube                   atleta minuto  \\\n",
       "0        4607       1     Fluminense  Nirley da Silva Fonseca     59   \n",
       "1        4607       1     Fluminense                     Fred     45   \n",
       "2        4607       1     Fluminense             Rafael Sóbis     31   \n",
       "3        4608       1  Internacional         Charles Aránguiz      6   \n",
       "4        4612       1       Cruzeiro   Nílton Ferreira Júnior     63   \n",
       "\n",
       "  tipo_de_gol  \n",
       "0  Gol Contra  \n",
       "1     Penalty  \n",
       "2         NaN  \n",
       "3         NaN  \n",
       "4         NaN  "
      ]
     },
     "execution_count": 6,
     "metadata": {},
     "output_type": "execute_result"
    }
   ],
   "source": [
    "df_gols.head()"
   ]
  },
  {
   "cell_type": "code",
   "execution_count": 7,
   "id": "342d429f",
   "metadata": {
    "execution": {
     "iopub.execute_input": "2023-08-03T00:16:37.420086Z",
     "iopub.status.busy": "2023-08-03T00:16:37.419675Z",
     "iopub.status.idle": "2023-08-03T00:16:37.434963Z",
     "shell.execute_reply": "2023-08-03T00:16:37.433948Z"
    },
    "papermill": {
     "duration": 0.042371,
     "end_time": "2023-08-03T00:16:37.437196",
     "exception": false,
     "start_time": "2023-08-03T00:16:37.394825",
     "status": "completed"
    },
    "tags": []
   },
   "outputs": [
    {
     "data": {
      "text/html": [
       "<div>\n",
       "<style scoped>\n",
       "    .dataframe tbody tr th:only-of-type {\n",
       "        vertical-align: middle;\n",
       "    }\n",
       "\n",
       "    .dataframe tbody tr th {\n",
       "        vertical-align: top;\n",
       "    }\n",
       "\n",
       "    .dataframe thead th {\n",
       "        text-align: right;\n",
       "    }\n",
       "</style>\n",
       "<table border=\"1\" class=\"dataframe\">\n",
       "  <thead>\n",
       "    <tr style=\"text-align: right;\">\n",
       "      <th></th>\n",
       "      <th>partida_id</th>\n",
       "      <th>rodata</th>\n",
       "      <th>clube</th>\n",
       "      <th>cartao</th>\n",
       "      <th>atleta</th>\n",
       "      <th>num_camisa</th>\n",
       "      <th>posicao</th>\n",
       "      <th>minuto</th>\n",
       "    </tr>\n",
       "  </thead>\n",
       "  <tbody>\n",
       "    <tr>\n",
       "      <th>0</th>\n",
       "      <td>4607</td>\n",
       "      <td>1</td>\n",
       "      <td>Figueirense</td>\n",
       "      <td>Amarelo</td>\n",
       "      <td>Paulo Roberto da Silva</td>\n",
       "      <td>28.0</td>\n",
       "      <td>NaN</td>\n",
       "      <td>66</td>\n",
       "    </tr>\n",
       "    <tr>\n",
       "      <th>1</th>\n",
       "      <td>4607</td>\n",
       "      <td>1</td>\n",
       "      <td>Figueirense</td>\n",
       "      <td>Amarelo</td>\n",
       "      <td>Thiago Heleno</td>\n",
       "      <td>4.0</td>\n",
       "      <td>Zagueiro</td>\n",
       "      <td>44</td>\n",
       "    </tr>\n",
       "    <tr>\n",
       "      <th>2</th>\n",
       "      <td>4608</td>\n",
       "      <td>1</td>\n",
       "      <td>Internacional</td>\n",
       "      <td>Amarelo</td>\n",
       "      <td>Andrés D'Alessandro</td>\n",
       "      <td>10.0</td>\n",
       "      <td>Meio-campo</td>\n",
       "      <td>72</td>\n",
       "    </tr>\n",
       "    <tr>\n",
       "      <th>3</th>\n",
       "      <td>4608</td>\n",
       "      <td>1</td>\n",
       "      <td>Vitoria</td>\n",
       "      <td>Amarelo</td>\n",
       "      <td>Marcelo Machado dos Santos</td>\n",
       "      <td>29.0</td>\n",
       "      <td>NaN</td>\n",
       "      <td>86</td>\n",
       "    </tr>\n",
       "    <tr>\n",
       "      <th>4</th>\n",
       "      <td>4608</td>\n",
       "      <td>1</td>\n",
       "      <td>Vitoria</td>\n",
       "      <td>Amarelo</td>\n",
       "      <td>Mansur</td>\n",
       "      <td>NaN</td>\n",
       "      <td>Zagueiro</td>\n",
       "      <td>10</td>\n",
       "    </tr>\n",
       "  </tbody>\n",
       "</table>\n",
       "</div>"
      ],
      "text/plain": [
       "   partida_id  rodata          clube   cartao                      atleta  \\\n",
       "0        4607       1    Figueirense  Amarelo      Paulo Roberto da Silva   \n",
       "1        4607       1    Figueirense  Amarelo               Thiago Heleno   \n",
       "2        4608       1  Internacional  Amarelo         Andrés D'Alessandro   \n",
       "3        4608       1        Vitoria  Amarelo  Marcelo Machado dos Santos   \n",
       "4        4608       1        Vitoria  Amarelo                      Mansur   \n",
       "\n",
       "   num_camisa     posicao minuto  \n",
       "0        28.0         NaN     66  \n",
       "1         4.0    Zagueiro     44  \n",
       "2        10.0  Meio-campo     72  \n",
       "3        29.0         NaN     86  \n",
       "4         NaN    Zagueiro     10  "
      ]
     },
     "execution_count": 7,
     "metadata": {},
     "output_type": "execute_result"
    }
   ],
   "source": [
    "df_cartoes.head()"
   ]
  },
  {
   "cell_type": "markdown",
   "id": "83eb5d4c",
   "metadata": {
    "papermill": {
     "duration": 0.023289,
     "end_time": "2023-08-03T00:16:37.484308",
     "exception": false,
     "start_time": "2023-08-03T00:16:37.461019",
     "status": "completed"
    },
    "tags": []
   },
   "source": [
    "## Pré-Processamento dos Dados"
   ]
  },
  {
   "cell_type": "code",
   "execution_count": 8,
   "id": "e600a055",
   "metadata": {
    "execution": {
     "iopub.execute_input": "2023-08-03T00:16:37.533774Z",
     "iopub.status.busy": "2023-08-03T00:16:37.533043Z",
     "iopub.status.idle": "2023-08-03T00:16:37.540729Z",
     "shell.execute_reply": "2023-08-03T00:16:37.539715Z"
    },
    "papermill": {
     "duration": 0.035202,
     "end_time": "2023-08-03T00:16:37.543027",
     "exception": false,
     "start_time": "2023-08-03T00:16:37.507825",
     "status": "completed"
    },
    "tags": []
   },
   "outputs": [],
   "source": [
    "# Padronização do nomes das colunas\n",
    "df_full.rename(columns={'ID': 'partida_id'}, inplace=True)"
   ]
  },
  {
   "cell_type": "code",
   "execution_count": 9,
   "id": "3821ee04",
   "metadata": {
    "execution": {
     "iopub.execute_input": "2023-08-03T00:16:37.592010Z",
     "iopub.status.busy": "2023-08-03T00:16:37.591598Z",
     "iopub.status.idle": "2023-08-03T00:16:37.601844Z",
     "shell.execute_reply": "2023-08-03T00:16:37.600631Z"
    },
    "papermill": {
     "duration": 0.037468,
     "end_time": "2023-08-03T00:16:37.604106",
     "exception": false,
     "start_time": "2023-08-03T00:16:37.566638",
     "status": "completed"
    },
    "tags": []
   },
   "outputs": [],
   "source": [
    "# Correção de texto\n",
    "df_full.rename(columns={'rodata': 'rodada'}, inplace=True)\n",
    "df_est_full.rename(columns={'rodata': 'rodada'}, inplace=True)\n",
    "df_gols.rename(columns={'rodata': 'rodada'}, inplace=True)\n",
    "df_cartoes.rename(columns={'rodata': 'rodada'}, inplace=True)"
   ]
  },
  {
   "cell_type": "markdown",
   "id": "8a8a686c",
   "metadata": {
    "papermill": {
     "duration": 0.023126,
     "end_time": "2023-08-03T00:16:37.650969",
     "exception": false,
     "start_time": "2023-08-03T00:16:37.627843",
     "status": "completed"
    },
    "tags": []
   },
   "source": [
    "## Análise Exploratória"
   ]
  },
  {
   "cell_type": "markdown",
   "id": "3a563011",
   "metadata": {
    "papermill": {
     "duration": 0.023492,
     "end_time": "2023-08-03T00:16:37.698044",
     "exception": false,
     "start_time": "2023-08-03T00:16:37.674552",
     "status": "completed"
    },
    "tags": []
   },
   "source": [
    "### Verificando se há registro duplicados."
   ]
  },
  {
   "cell_type": "code",
   "execution_count": 10,
   "id": "229788fe",
   "metadata": {
    "execution": {
     "iopub.execute_input": "2023-08-03T00:16:37.746594Z",
     "iopub.status.busy": "2023-08-03T00:16:37.746223Z",
     "iopub.status.idle": "2023-08-03T00:16:37.779831Z",
     "shell.execute_reply": "2023-08-03T00:16:37.778947Z"
    },
    "papermill": {
     "duration": 0.060744,
     "end_time": "2023-08-03T00:16:37.782163",
     "exception": false,
     "start_time": "2023-08-03T00:16:37.721419",
     "status": "completed"
    },
    "tags": []
   },
   "outputs": [
    {
     "data": {
      "text/html": [
       "<div>\n",
       "<style scoped>\n",
       "    .dataframe tbody tr th:only-of-type {\n",
       "        vertical-align: middle;\n",
       "    }\n",
       "\n",
       "    .dataframe tbody tr th {\n",
       "        vertical-align: top;\n",
       "    }\n",
       "\n",
       "    .dataframe thead th {\n",
       "        text-align: right;\n",
       "    }\n",
       "</style>\n",
       "<table border=\"1\" class=\"dataframe\">\n",
       "  <thead>\n",
       "    <tr style=\"text-align: right;\">\n",
       "      <th></th>\n",
       "      <th>partida_id</th>\n",
       "      <th>rodada</th>\n",
       "      <th>data</th>\n",
       "      <th>hora</th>\n",
       "      <th>mandante</th>\n",
       "      <th>visitante</th>\n",
       "      <th>formacao_mandante</th>\n",
       "      <th>formacao_visitante</th>\n",
       "      <th>tecnico_mandante</th>\n",
       "      <th>tecnico_visitante</th>\n",
       "      <th>vencedor</th>\n",
       "      <th>arena</th>\n",
       "      <th>mandante_Placar</th>\n",
       "      <th>visitante_Placar</th>\n",
       "      <th>mandante_Estado</th>\n",
       "      <th>visitante_Estado</th>\n",
       "    </tr>\n",
       "  </thead>\n",
       "  <tbody>\n",
       "  </tbody>\n",
       "</table>\n",
       "</div>"
      ],
      "text/plain": [
       "Empty DataFrame\n",
       "Columns: [partida_id, rodada, data, hora, mandante, visitante, formacao_mandante, formacao_visitante, tecnico_mandante, tecnico_visitante, vencedor, arena, mandante_Placar, visitante_Placar, mandante_Estado, visitante_Estado]\n",
       "Index: []"
      ]
     },
     "execution_count": 10,
     "metadata": {},
     "output_type": "execute_result"
    }
   ],
   "source": [
    "df_full[df_full.duplicated()]"
   ]
  },
  {
   "cell_type": "code",
   "execution_count": 11,
   "id": "dc68dd35",
   "metadata": {
    "execution": {
     "iopub.execute_input": "2023-08-03T00:16:37.831354Z",
     "iopub.status.busy": "2023-08-03T00:16:37.830940Z",
     "iopub.status.idle": "2023-08-03T00:16:37.852615Z",
     "shell.execute_reply": "2023-08-03T00:16:37.851608Z"
    },
    "papermill": {
     "duration": 0.049064,
     "end_time": "2023-08-03T00:16:37.855047",
     "exception": false,
     "start_time": "2023-08-03T00:16:37.805983",
     "status": "completed"
    },
    "tags": []
   },
   "outputs": [
    {
     "data": {
      "text/html": [
       "<div>\n",
       "<style scoped>\n",
       "    .dataframe tbody tr th:only-of-type {\n",
       "        vertical-align: middle;\n",
       "    }\n",
       "\n",
       "    .dataframe tbody tr th {\n",
       "        vertical-align: top;\n",
       "    }\n",
       "\n",
       "    .dataframe thead th {\n",
       "        text-align: right;\n",
       "    }\n",
       "</style>\n",
       "<table border=\"1\" class=\"dataframe\">\n",
       "  <thead>\n",
       "    <tr style=\"text-align: right;\">\n",
       "      <th></th>\n",
       "      <th>partida_id</th>\n",
       "      <th>rodada</th>\n",
       "      <th>clube</th>\n",
       "      <th>chutes</th>\n",
       "      <th>chutes_no_alvo</th>\n",
       "      <th>posse_de_bola</th>\n",
       "      <th>passes</th>\n",
       "      <th>precisao_passes</th>\n",
       "      <th>faltas</th>\n",
       "      <th>cartao_amarelo</th>\n",
       "      <th>cartao_vermelho</th>\n",
       "      <th>impedimentos</th>\n",
       "      <th>escanteios</th>\n",
       "    </tr>\n",
       "  </thead>\n",
       "  <tbody>\n",
       "  </tbody>\n",
       "</table>\n",
       "</div>"
      ],
      "text/plain": [
       "Empty DataFrame\n",
       "Columns: [partida_id, rodada, clube, chutes, chutes_no_alvo, posse_de_bola, passes, precisao_passes, faltas, cartao_amarelo, cartao_vermelho, impedimentos, escanteios]\n",
       "Index: []"
      ]
     },
     "execution_count": 11,
     "metadata": {},
     "output_type": "execute_result"
    }
   ],
   "source": [
    "df_est_full[df_est_full.duplicated()]"
   ]
  },
  {
   "cell_type": "code",
   "execution_count": 12,
   "id": "8e212dfc",
   "metadata": {
    "execution": {
     "iopub.execute_input": "2023-08-03T00:16:37.905519Z",
     "iopub.status.busy": "2023-08-03T00:16:37.905150Z",
     "iopub.status.idle": "2023-08-03T00:16:37.920794Z",
     "shell.execute_reply": "2023-08-03T00:16:37.919797Z"
    },
    "papermill": {
     "duration": 0.042931,
     "end_time": "2023-08-03T00:16:37.922780",
     "exception": false,
     "start_time": "2023-08-03T00:16:37.879849",
     "status": "completed"
    },
    "tags": []
   },
   "outputs": [
    {
     "data": {
      "text/html": [
       "<div>\n",
       "<style scoped>\n",
       "    .dataframe tbody tr th:only-of-type {\n",
       "        vertical-align: middle;\n",
       "    }\n",
       "\n",
       "    .dataframe tbody tr th {\n",
       "        vertical-align: top;\n",
       "    }\n",
       "\n",
       "    .dataframe thead th {\n",
       "        text-align: right;\n",
       "    }\n",
       "</style>\n",
       "<table border=\"1\" class=\"dataframe\">\n",
       "  <thead>\n",
       "    <tr style=\"text-align: right;\">\n",
       "      <th></th>\n",
       "      <th>partida_id</th>\n",
       "      <th>rodada</th>\n",
       "      <th>clube</th>\n",
       "      <th>atleta</th>\n",
       "      <th>minuto</th>\n",
       "      <th>tipo_de_gol</th>\n",
       "    </tr>\n",
       "  </thead>\n",
       "  <tbody>\n",
       "  </tbody>\n",
       "</table>\n",
       "</div>"
      ],
      "text/plain": [
       "Empty DataFrame\n",
       "Columns: [partida_id, rodada, clube, atleta, minuto, tipo_de_gol]\n",
       "Index: []"
      ]
     },
     "execution_count": 12,
     "metadata": {},
     "output_type": "execute_result"
    }
   ],
   "source": [
    "df_gols[df_gols.duplicated()]"
   ]
  },
  {
   "cell_type": "code",
   "execution_count": 13,
   "id": "770b1ef5",
   "metadata": {
    "execution": {
     "iopub.execute_input": "2023-08-03T00:16:37.973504Z",
     "iopub.status.busy": "2023-08-03T00:16:37.973145Z",
     "iopub.status.idle": "2023-08-03T00:16:37.997673Z",
     "shell.execute_reply": "2023-08-03T00:16:37.996559Z"
    },
    "papermill": {
     "duration": 0.052453,
     "end_time": "2023-08-03T00:16:37.999822",
     "exception": false,
     "start_time": "2023-08-03T00:16:37.947369",
     "status": "completed"
    },
    "tags": []
   },
   "outputs": [
    {
     "data": {
      "text/html": [
       "<div>\n",
       "<style scoped>\n",
       "    .dataframe tbody tr th:only-of-type {\n",
       "        vertical-align: middle;\n",
       "    }\n",
       "\n",
       "    .dataframe tbody tr th {\n",
       "        vertical-align: top;\n",
       "    }\n",
       "\n",
       "    .dataframe thead th {\n",
       "        text-align: right;\n",
       "    }\n",
       "</style>\n",
       "<table border=\"1\" class=\"dataframe\">\n",
       "  <thead>\n",
       "    <tr style=\"text-align: right;\">\n",
       "      <th></th>\n",
       "      <th>partida_id</th>\n",
       "      <th>rodada</th>\n",
       "      <th>clube</th>\n",
       "      <th>cartao</th>\n",
       "      <th>atleta</th>\n",
       "      <th>num_camisa</th>\n",
       "      <th>posicao</th>\n",
       "      <th>minuto</th>\n",
       "    </tr>\n",
       "  </thead>\n",
       "  <tbody>\n",
       "  </tbody>\n",
       "</table>\n",
       "</div>"
      ],
      "text/plain": [
       "Empty DataFrame\n",
       "Columns: [partida_id, rodada, clube, cartao, atleta, num_camisa, posicao, minuto]\n",
       "Index: []"
      ]
     },
     "execution_count": 13,
     "metadata": {},
     "output_type": "execute_result"
    }
   ],
   "source": [
    "df_cartoes[df_cartoes.duplicated()]"
   ]
  },
  {
   "cell_type": "markdown",
   "id": "38e6b0de",
   "metadata": {
    "papermill": {
     "duration": 0.024133,
     "end_time": "2023-08-03T00:16:38.048606",
     "exception": false,
     "start_time": "2023-08-03T00:16:38.024473",
     "status": "completed"
    },
    "tags": []
   },
   "source": [
    "### Verificando se há valores nulos."
   ]
  },
  {
   "cell_type": "code",
   "execution_count": 14,
   "id": "eb3b63c8",
   "metadata": {
    "execution": {
     "iopub.execute_input": "2023-08-03T00:16:38.099004Z",
     "iopub.status.busy": "2023-08-03T00:16:38.098570Z",
     "iopub.status.idle": "2023-08-03T00:16:38.138257Z",
     "shell.execute_reply": "2023-08-03T00:16:38.137298Z"
    },
    "papermill": {
     "duration": 0.067432,
     "end_time": "2023-08-03T00:16:38.140408",
     "exception": false,
     "start_time": "2023-08-03T00:16:38.072976",
     "status": "completed"
    },
    "tags": []
   },
   "outputs": [
    {
     "data": {
      "text/plain": [
       "partida_id               0\n",
       "rodada                   0\n",
       "data                     0\n",
       "hora                     0\n",
       "mandante                 0\n",
       "visitante                0\n",
       "formacao_mandante     4974\n",
       "formacao_visitante    4974\n",
       "tecnico_mandante      4610\n",
       "tecnico_visitante     4610\n",
       "vencedor                 0\n",
       "arena                    0\n",
       "mandante_Placar          0\n",
       "visitante_Placar         0\n",
       "mandante_Estado          0\n",
       "visitante_Estado         0\n",
       "dtype: int64"
      ]
     },
     "execution_count": 14,
     "metadata": {},
     "output_type": "execute_result"
    }
   ],
   "source": [
    "df_full.isnull().sum()"
   ]
  },
  {
   "cell_type": "code",
   "execution_count": 15,
   "id": "055202c9",
   "metadata": {
    "execution": {
     "iopub.execute_input": "2023-08-03T00:16:38.191466Z",
     "iopub.status.busy": "2023-08-03T00:16:38.190716Z",
     "iopub.status.idle": "2023-08-03T00:16:38.214811Z",
     "shell.execute_reply": "2023-08-03T00:16:38.213736Z"
    },
    "papermill": {
     "duration": 0.051577,
     "end_time": "2023-08-03T00:16:38.216860",
     "exception": false,
     "start_time": "2023-08-03T00:16:38.165283",
     "status": "completed"
    },
    "tags": []
   },
   "outputs": [
    {
     "data": {
      "text/plain": [
       "partida_id             0\n",
       "rodada                 0\n",
       "clube                  0\n",
       "chutes                 0\n",
       "chutes_no_alvo         0\n",
       "posse_de_bola       9990\n",
       "passes                 0\n",
       "precisao_passes    12298\n",
       "faltas                 0\n",
       "cartao_amarelo         0\n",
       "cartao_vermelho        0\n",
       "impedimentos           0\n",
       "escanteios             0\n",
       "dtype: int64"
      ]
     },
     "execution_count": 15,
     "metadata": {},
     "output_type": "execute_result"
    }
   ],
   "source": [
    "df_est_full.isnull().sum()"
   ]
  },
  {
   "cell_type": "code",
   "execution_count": 16,
   "id": "3a292502",
   "metadata": {
    "execution": {
     "iopub.execute_input": "2023-08-03T00:16:38.267843Z",
     "iopub.status.busy": "2023-08-03T00:16:38.266893Z",
     "iopub.status.idle": "2023-08-03T00:16:38.286476Z",
     "shell.execute_reply": "2023-08-03T00:16:38.285224Z"
    },
    "papermill": {
     "duration": 0.047581,
     "end_time": "2023-08-03T00:16:38.288776",
     "exception": false,
     "start_time": "2023-08-03T00:16:38.241195",
     "status": "completed"
    },
    "tags": []
   },
   "outputs": [
    {
     "data": {
      "text/plain": [
       "partida_id        0\n",
       "rodada            0\n",
       "clube             0\n",
       "atleta            0\n",
       "minuto            0\n",
       "tipo_de_gol    7843\n",
       "dtype: int64"
      ]
     },
     "execution_count": 16,
     "metadata": {},
     "output_type": "execute_result"
    }
   ],
   "source": [
    "df_gols.isnull().sum()"
   ]
  },
  {
   "cell_type": "code",
   "execution_count": 17,
   "id": "e0918868",
   "metadata": {
    "execution": {
     "iopub.execute_input": "2023-08-03T00:16:38.340553Z",
     "iopub.status.busy": "2023-08-03T00:16:38.339571Z",
     "iopub.status.idle": "2023-08-03T00:16:38.377686Z",
     "shell.execute_reply": "2023-08-03T00:16:38.376425Z"
    },
    "papermill": {
     "duration": 0.066666,
     "end_time": "2023-08-03T00:16:38.380366",
     "exception": false,
     "start_time": "2023-08-03T00:16:38.313700",
     "status": "completed"
    },
    "tags": []
   },
   "outputs": [
    {
     "data": {
      "text/plain": [
       "partida_id       0\n",
       "rodada           0\n",
       "clube            0\n",
       "cartao           0\n",
       "atleta           6\n",
       "num_camisa     386\n",
       "posicao       1198\n",
       "minuto           0\n",
       "dtype: int64"
      ]
     },
     "execution_count": 17,
     "metadata": {},
     "output_type": "execute_result"
    }
   ],
   "source": [
    "df_cartoes.isnull().sum()"
   ]
  },
  {
   "cell_type": "markdown",
   "id": "4059f453",
   "metadata": {
    "papermill": {
     "duration": 0.024993,
     "end_time": "2023-08-03T00:16:38.430636",
     "exception": false,
     "start_time": "2023-08-03T00:16:38.405643",
     "status": "completed"
    },
    "tags": []
   },
   "source": [
    "É possível notar a presença de diversos valores ausentes nos dados. No entanto, o aspecto mais preocupante é a constatação de que no dataset \"df_est_full\", muitos valores faltantes não são representados como \"NaN\", mas sim como \"0\". Por exemplo, existem partidas em que a coluna \"passes\" está registrada como \"0\", o que é altamente improvável de ocorrer, indicando que, em algumas colunas desse dataset, foram inseridos valores \"0\" em vez de \"NaN\" para representar a ausência de dados."
   ]
  },
  {
   "cell_type": "code",
   "execution_count": 18,
   "id": "1ceede2a",
   "metadata": {
    "execution": {
     "iopub.execute_input": "2023-08-03T00:16:38.482809Z",
     "iopub.status.busy": "2023-08-03T00:16:38.482070Z",
     "iopub.status.idle": "2023-08-03T00:16:38.503792Z",
     "shell.execute_reply": "2023-08-03T00:16:38.502704Z"
    },
    "papermill": {
     "duration": 0.050144,
     "end_time": "2023-08-03T00:16:38.505964",
     "exception": false,
     "start_time": "2023-08-03T00:16:38.455820",
     "status": "completed"
    },
    "tags": []
   },
   "outputs": [
    {
     "data": {
      "text/html": [
       "<div>\n",
       "<style scoped>\n",
       "    .dataframe tbody tr th:only-of-type {\n",
       "        vertical-align: middle;\n",
       "    }\n",
       "\n",
       "    .dataframe tbody tr th {\n",
       "        vertical-align: top;\n",
       "    }\n",
       "\n",
       "    .dataframe thead th {\n",
       "        text-align: right;\n",
       "    }\n",
       "</style>\n",
       "<table border=\"1\" class=\"dataframe\">\n",
       "  <thead>\n",
       "    <tr style=\"text-align: right;\">\n",
       "      <th></th>\n",
       "      <th>partida_id</th>\n",
       "      <th>rodada</th>\n",
       "      <th>clube</th>\n",
       "      <th>chutes</th>\n",
       "      <th>chutes_no_alvo</th>\n",
       "      <th>posse_de_bola</th>\n",
       "      <th>passes</th>\n",
       "      <th>precisao_passes</th>\n",
       "      <th>faltas</th>\n",
       "      <th>cartao_amarelo</th>\n",
       "      <th>cartao_vermelho</th>\n",
       "      <th>impedimentos</th>\n",
       "      <th>escanteios</th>\n",
       "    </tr>\n",
       "  </thead>\n",
       "  <tbody>\n",
       "    <tr>\n",
       "      <th>0</th>\n",
       "      <td>1</td>\n",
       "      <td>1</td>\n",
       "      <td>Guarani</td>\n",
       "      <td>0</td>\n",
       "      <td>0</td>\n",
       "      <td>NaN</td>\n",
       "      <td>0</td>\n",
       "      <td>NaN</td>\n",
       "      <td>0</td>\n",
       "      <td>0</td>\n",
       "      <td>0</td>\n",
       "      <td>0</td>\n",
       "      <td>0</td>\n",
       "    </tr>\n",
       "    <tr>\n",
       "      <th>1</th>\n",
       "      <td>1</td>\n",
       "      <td>1</td>\n",
       "      <td>Vasco</td>\n",
       "      <td>0</td>\n",
       "      <td>0</td>\n",
       "      <td>NaN</td>\n",
       "      <td>0</td>\n",
       "      <td>NaN</td>\n",
       "      <td>0</td>\n",
       "      <td>0</td>\n",
       "      <td>0</td>\n",
       "      <td>0</td>\n",
       "      <td>0</td>\n",
       "    </tr>\n",
       "    <tr>\n",
       "      <th>2</th>\n",
       "      <td>2</td>\n",
       "      <td>1</td>\n",
       "      <td>Gremio</td>\n",
       "      <td>0</td>\n",
       "      <td>0</td>\n",
       "      <td>NaN</td>\n",
       "      <td>0</td>\n",
       "      <td>NaN</td>\n",
       "      <td>0</td>\n",
       "      <td>0</td>\n",
       "      <td>0</td>\n",
       "      <td>0</td>\n",
       "      <td>0</td>\n",
       "    </tr>\n",
       "    <tr>\n",
       "      <th>3</th>\n",
       "      <td>2</td>\n",
       "      <td>1</td>\n",
       "      <td>Athletico-PR</td>\n",
       "      <td>0</td>\n",
       "      <td>0</td>\n",
       "      <td>NaN</td>\n",
       "      <td>0</td>\n",
       "      <td>NaN</td>\n",
       "      <td>0</td>\n",
       "      <td>0</td>\n",
       "      <td>0</td>\n",
       "      <td>0</td>\n",
       "      <td>0</td>\n",
       "    </tr>\n",
       "    <tr>\n",
       "      <th>4</th>\n",
       "      <td>3</td>\n",
       "      <td>1</td>\n",
       "      <td>Coritiba</td>\n",
       "      <td>0</td>\n",
       "      <td>0</td>\n",
       "      <td>NaN</td>\n",
       "      <td>0</td>\n",
       "      <td>NaN</td>\n",
       "      <td>0</td>\n",
       "      <td>0</td>\n",
       "      <td>0</td>\n",
       "      <td>0</td>\n",
       "      <td>0</td>\n",
       "    </tr>\n",
       "    <tr>\n",
       "      <th>...</th>\n",
       "      <td>...</td>\n",
       "      <td>...</td>\n",
       "      <td>...</td>\n",
       "      <td>...</td>\n",
       "      <td>...</td>\n",
       "      <td>...</td>\n",
       "      <td>...</td>\n",
       "      <td>...</td>\n",
       "      <td>...</td>\n",
       "      <td>...</td>\n",
       "      <td>...</td>\n",
       "      <td>...</td>\n",
       "      <td>...</td>\n",
       "    </tr>\n",
       "    <tr>\n",
       "      <th>13695</th>\n",
       "      <td>6849</td>\n",
       "      <td>35</td>\n",
       "      <td>Athletico-PR</td>\n",
       "      <td>0</td>\n",
       "      <td>0</td>\n",
       "      <td>NaN</td>\n",
       "      <td>0</td>\n",
       "      <td>NaN</td>\n",
       "      <td>0</td>\n",
       "      <td>0</td>\n",
       "      <td>0</td>\n",
       "      <td>0</td>\n",
       "      <td>0</td>\n",
       "    </tr>\n",
       "    <tr>\n",
       "      <th>13768</th>\n",
       "      <td>6884</td>\n",
       "      <td>38</td>\n",
       "      <td>Avai</td>\n",
       "      <td>0</td>\n",
       "      <td>0</td>\n",
       "      <td>NaN</td>\n",
       "      <td>0</td>\n",
       "      <td>NaN</td>\n",
       "      <td>0</td>\n",
       "      <td>0</td>\n",
       "      <td>0</td>\n",
       "      <td>0</td>\n",
       "      <td>0</td>\n",
       "    </tr>\n",
       "    <tr>\n",
       "      <th>13769</th>\n",
       "      <td>6884</td>\n",
       "      <td>38</td>\n",
       "      <td>Athletico-PR</td>\n",
       "      <td>0</td>\n",
       "      <td>0</td>\n",
       "      <td>NaN</td>\n",
       "      <td>0</td>\n",
       "      <td>NaN</td>\n",
       "      <td>0</td>\n",
       "      <td>0</td>\n",
       "      <td>0</td>\n",
       "      <td>0</td>\n",
       "      <td>0</td>\n",
       "    </tr>\n",
       "    <tr>\n",
       "      <th>14006</th>\n",
       "      <td>7015</td>\n",
       "      <td>13</td>\n",
       "      <td>Vasco</td>\n",
       "      <td>0</td>\n",
       "      <td>0</td>\n",
       "      <td>NaN</td>\n",
       "      <td>0</td>\n",
       "      <td>NaN</td>\n",
       "      <td>0</td>\n",
       "      <td>0</td>\n",
       "      <td>0</td>\n",
       "      <td>0</td>\n",
       "      <td>0</td>\n",
       "    </tr>\n",
       "    <tr>\n",
       "      <th>14007</th>\n",
       "      <td>7015</td>\n",
       "      <td>13</td>\n",
       "      <td>Atletico-MG</td>\n",
       "      <td>0</td>\n",
       "      <td>0</td>\n",
       "      <td>NaN</td>\n",
       "      <td>0</td>\n",
       "      <td>NaN</td>\n",
       "      <td>0</td>\n",
       "      <td>0</td>\n",
       "      <td>0</td>\n",
       "      <td>0</td>\n",
       "      <td>0</td>\n",
       "    </tr>\n",
       "  </tbody>\n",
       "</table>\n",
       "<p>9990 rows × 13 columns</p>\n",
       "</div>"
      ],
      "text/plain": [
       "       partida_id  rodada         clube  chutes  chutes_no_alvo posse_de_bola  \\\n",
       "0               1       1       Guarani       0               0           NaN   \n",
       "1               1       1         Vasco       0               0           NaN   \n",
       "2               2       1        Gremio       0               0           NaN   \n",
       "3               2       1  Athletico-PR       0               0           NaN   \n",
       "4               3       1      Coritiba       0               0           NaN   \n",
       "...           ...     ...           ...     ...             ...           ...   \n",
       "13695        6849      35  Athletico-PR       0               0           NaN   \n",
       "13768        6884      38          Avai       0               0           NaN   \n",
       "13769        6884      38  Athletico-PR       0               0           NaN   \n",
       "14006        7015      13         Vasco       0               0           NaN   \n",
       "14007        7015      13   Atletico-MG       0               0           NaN   \n",
       "\n",
       "       passes precisao_passes  faltas  cartao_amarelo  cartao_vermelho  \\\n",
       "0           0             NaN       0               0                0   \n",
       "1           0             NaN       0               0                0   \n",
       "2           0             NaN       0               0                0   \n",
       "3           0             NaN       0               0                0   \n",
       "4           0             NaN       0               0                0   \n",
       "...       ...             ...     ...             ...              ...   \n",
       "13695       0             NaN       0               0                0   \n",
       "13768       0             NaN       0               0                0   \n",
       "13769       0             NaN       0               0                0   \n",
       "14006       0             NaN       0               0                0   \n",
       "14007       0             NaN       0               0                0   \n",
       "\n",
       "       impedimentos  escanteios  \n",
       "0                 0           0  \n",
       "1                 0           0  \n",
       "2                 0           0  \n",
       "3                 0           0  \n",
       "4                 0           0  \n",
       "...             ...         ...  \n",
       "13695             0           0  \n",
       "13768             0           0  \n",
       "13769             0           0  \n",
       "14006             0           0  \n",
       "14007             0           0  \n",
       "\n",
       "[9990 rows x 13 columns]"
      ]
     },
     "execution_count": 18,
     "metadata": {},
     "output_type": "execute_result"
    }
   ],
   "source": [
    "df_est_full[df_est_full.passes == 0]"
   ]
  },
  {
   "cell_type": "markdown",
   "id": "0df5889c",
   "metadata": {
    "papermill": {
     "duration": 0.026991,
     "end_time": "2023-08-03T00:16:38.558487",
     "exception": false,
     "start_time": "2023-08-03T00:16:38.531496",
     "status": "completed"
    },
    "tags": []
   },
   "source": [
    "Todas essas linhas praticamente não contém informações alguma e serão retiradas."
   ]
  },
  {
   "cell_type": "code",
   "execution_count": 19,
   "id": "9a547a05",
   "metadata": {
    "execution": {
     "iopub.execute_input": "2023-08-03T00:16:38.612300Z",
     "iopub.status.busy": "2023-08-03T00:16:38.611412Z",
     "iopub.status.idle": "2023-08-03T00:16:38.628662Z",
     "shell.execute_reply": "2023-08-03T00:16:38.627934Z"
    },
    "papermill": {
     "duration": 0.046316,
     "end_time": "2023-08-03T00:16:38.630746",
     "exception": false,
     "start_time": "2023-08-03T00:16:38.584430",
     "status": "completed"
    },
    "tags": []
   },
   "outputs": [
    {
     "data": {
      "text/html": [
       "<div>\n",
       "<style scoped>\n",
       "    .dataframe tbody tr th:only-of-type {\n",
       "        vertical-align: middle;\n",
       "    }\n",
       "\n",
       "    .dataframe tbody tr th {\n",
       "        vertical-align: top;\n",
       "    }\n",
       "\n",
       "    .dataframe thead th {\n",
       "        text-align: right;\n",
       "    }\n",
       "</style>\n",
       "<table border=\"1\" class=\"dataframe\">\n",
       "  <thead>\n",
       "    <tr style=\"text-align: right;\">\n",
       "      <th></th>\n",
       "      <th>partida_id</th>\n",
       "      <th>rodada</th>\n",
       "      <th>clube</th>\n",
       "      <th>chutes</th>\n",
       "      <th>chutes_no_alvo</th>\n",
       "      <th>posse_de_bola</th>\n",
       "      <th>passes</th>\n",
       "      <th>precisao_passes</th>\n",
       "      <th>faltas</th>\n",
       "      <th>cartao_amarelo</th>\n",
       "      <th>cartao_vermelho</th>\n",
       "      <th>impedimentos</th>\n",
       "      <th>escanteios</th>\n",
       "    </tr>\n",
       "  </thead>\n",
       "  <tbody>\n",
       "    <tr>\n",
       "      <th>9458</th>\n",
       "      <td>4741</td>\n",
       "      <td>13</td>\n",
       "      <td>Flamengo</td>\n",
       "      <td>9</td>\n",
       "      <td>0</td>\n",
       "      <td>65%</td>\n",
       "      <td>509</td>\n",
       "      <td>NaN</td>\n",
       "      <td>13</td>\n",
       "      <td>1</td>\n",
       "      <td>0</td>\n",
       "      <td>1</td>\n",
       "      <td>5</td>\n",
       "    </tr>\n",
       "    <tr>\n",
       "      <th>9459</th>\n",
       "      <td>4741</td>\n",
       "      <td>13</td>\n",
       "      <td>Chapecoense</td>\n",
       "      <td>15</td>\n",
       "      <td>0</td>\n",
       "      <td>35%</td>\n",
       "      <td>280</td>\n",
       "      <td>NaN</td>\n",
       "      <td>19</td>\n",
       "      <td>4</td>\n",
       "      <td>0</td>\n",
       "      <td>0</td>\n",
       "      <td>8</td>\n",
       "    </tr>\n",
       "    <tr>\n",
       "      <th>9594</th>\n",
       "      <td>4808</td>\n",
       "      <td>20</td>\n",
       "      <td>Criciuma</td>\n",
       "      <td>10</td>\n",
       "      <td>0</td>\n",
       "      <td>56%</td>\n",
       "      <td>471</td>\n",
       "      <td>NaN</td>\n",
       "      <td>17</td>\n",
       "      <td>3</td>\n",
       "      <td>0</td>\n",
       "      <td>1</td>\n",
       "      <td>6</td>\n",
       "    </tr>\n",
       "    <tr>\n",
       "      <th>9595</th>\n",
       "      <td>4808</td>\n",
       "      <td>20</td>\n",
       "      <td>Palmeiras</td>\n",
       "      <td>10</td>\n",
       "      <td>0</td>\n",
       "      <td>44%</td>\n",
       "      <td>384</td>\n",
       "      <td>NaN</td>\n",
       "      <td>18</td>\n",
       "      <td>4</td>\n",
       "      <td>0</td>\n",
       "      <td>1</td>\n",
       "      <td>5</td>\n",
       "    </tr>\n",
       "    <tr>\n",
       "      <th>9642</th>\n",
       "      <td>4833</td>\n",
       "      <td>22</td>\n",
       "      <td>Coritiba</td>\n",
       "      <td>9</td>\n",
       "      <td>0</td>\n",
       "      <td>43%</td>\n",
       "      <td>360</td>\n",
       "      <td>NaN</td>\n",
       "      <td>14</td>\n",
       "      <td>5</td>\n",
       "      <td>0</td>\n",
       "      <td>1</td>\n",
       "      <td>11</td>\n",
       "    </tr>\n",
       "    <tr>\n",
       "      <th>9643</th>\n",
       "      <td>4833</td>\n",
       "      <td>22</td>\n",
       "      <td>Sao Paulo</td>\n",
       "      <td>5</td>\n",
       "      <td>0</td>\n",
       "      <td>57%</td>\n",
       "      <td>481</td>\n",
       "      <td>NaN</td>\n",
       "      <td>10</td>\n",
       "      <td>1</td>\n",
       "      <td>0</td>\n",
       "      <td>3</td>\n",
       "      <td>2</td>\n",
       "    </tr>\n",
       "    <tr>\n",
       "      <th>9668</th>\n",
       "      <td>4846</td>\n",
       "      <td>23</td>\n",
       "      <td>Gremio</td>\n",
       "      <td>15</td>\n",
       "      <td>0</td>\n",
       "      <td>42%</td>\n",
       "      <td>357</td>\n",
       "      <td>NaN</td>\n",
       "      <td>20</td>\n",
       "      <td>2</td>\n",
       "      <td>0</td>\n",
       "      <td>1</td>\n",
       "      <td>9</td>\n",
       "    </tr>\n",
       "    <tr>\n",
       "      <th>9669</th>\n",
       "      <td>4846</td>\n",
       "      <td>23</td>\n",
       "      <td>Chapecoense</td>\n",
       "      <td>14</td>\n",
       "      <td>0</td>\n",
       "      <td>58%</td>\n",
       "      <td>477</td>\n",
       "      <td>NaN</td>\n",
       "      <td>14</td>\n",
       "      <td>4</td>\n",
       "      <td>0</td>\n",
       "      <td>2</td>\n",
       "      <td>4</td>\n",
       "    </tr>\n",
       "    <tr>\n",
       "      <th>9682</th>\n",
       "      <td>4853</td>\n",
       "      <td>24</td>\n",
       "      <td>Fluminense</td>\n",
       "      <td>16</td>\n",
       "      <td>0</td>\n",
       "      <td>48%</td>\n",
       "      <td>363</td>\n",
       "      <td>NaN</td>\n",
       "      <td>17</td>\n",
       "      <td>0</td>\n",
       "      <td>0</td>\n",
       "      <td>1</td>\n",
       "      <td>6</td>\n",
       "    </tr>\n",
       "    <tr>\n",
       "      <th>9683</th>\n",
       "      <td>4853</td>\n",
       "      <td>24</td>\n",
       "      <td>Gremio</td>\n",
       "      <td>15</td>\n",
       "      <td>0</td>\n",
       "      <td>52%</td>\n",
       "      <td>383</td>\n",
       "      <td>NaN</td>\n",
       "      <td>19</td>\n",
       "      <td>0</td>\n",
       "      <td>0</td>\n",
       "      <td>4</td>\n",
       "      <td>6</td>\n",
       "    </tr>\n",
       "  </tbody>\n",
       "</table>\n",
       "</div>"
      ],
      "text/plain": [
       "      partida_id  rodada        clube  chutes  chutes_no_alvo posse_de_bola  \\\n",
       "9458        4741      13     Flamengo       9               0           65%   \n",
       "9459        4741      13  Chapecoense      15               0           35%   \n",
       "9594        4808      20     Criciuma      10               0           56%   \n",
       "9595        4808      20    Palmeiras      10               0           44%   \n",
       "9642        4833      22     Coritiba       9               0           43%   \n",
       "9643        4833      22    Sao Paulo       5               0           57%   \n",
       "9668        4846      23       Gremio      15               0           42%   \n",
       "9669        4846      23  Chapecoense      14               0           58%   \n",
       "9682        4853      24   Fluminense      16               0           48%   \n",
       "9683        4853      24       Gremio      15               0           52%   \n",
       "\n",
       "      passes precisao_passes  faltas  cartao_amarelo  cartao_vermelho  \\\n",
       "9458     509             NaN      13               1                0   \n",
       "9459     280             NaN      19               4                0   \n",
       "9594     471             NaN      17               3                0   \n",
       "9595     384             NaN      18               4                0   \n",
       "9642     360             NaN      14               5                0   \n",
       "9643     481             NaN      10               1                0   \n",
       "9668     357             NaN      20               2                0   \n",
       "9669     477             NaN      14               4                0   \n",
       "9682     363             NaN      17               0                0   \n",
       "9683     383             NaN      19               0                0   \n",
       "\n",
       "      impedimentos  escanteios  \n",
       "9458             1           5  \n",
       "9459             0           8  \n",
       "9594             1           6  \n",
       "9595             1           5  \n",
       "9642             1          11  \n",
       "9643             3           2  \n",
       "9668             1           9  \n",
       "9669             2           4  \n",
       "9682             1           6  \n",
       "9683             4           6  "
      ]
     },
     "execution_count": 19,
     "metadata": {},
     "output_type": "execute_result"
    }
   ],
   "source": [
    "# Excluindo linha com valores ausentes\n",
    "df_est_full = df_est_full[df_est_full.passes != 0]\n",
    "df_est_full.head(10)"
   ]
  },
  {
   "cell_type": "markdown",
   "id": "a70a1fb0",
   "metadata": {
    "papermill": {
     "duration": 0.025438,
     "end_time": "2023-08-03T00:16:38.682806",
     "exception": false,
     "start_time": "2023-08-03T00:16:38.657368",
     "status": "completed"
    },
    "tags": []
   },
   "source": [
    "Ainda podemos notar valores ausentes em \"chutes_no_alvo\" e \"precisao_passes\""
   ]
  },
  {
   "cell_type": "markdown",
   "id": "8a7b4885",
   "metadata": {
    "papermill": {
     "duration": 0.025593,
     "end_time": "2023-08-03T00:16:38.734262",
     "exception": false,
     "start_time": "2023-08-03T00:16:38.708669",
     "status": "completed"
    },
    "tags": []
   },
   "source": [
    "### Aplicando conversões e ajustes."
   ]
  },
  {
   "cell_type": "code",
   "execution_count": 20,
   "id": "4b9685d7",
   "metadata": {
    "execution": {
     "iopub.execute_input": "2023-08-03T00:16:38.787812Z",
     "iopub.status.busy": "2023-08-03T00:16:38.787170Z",
     "iopub.status.idle": "2023-08-03T00:16:38.794003Z",
     "shell.execute_reply": "2023-08-03T00:16:38.793289Z"
    },
    "papermill": {
     "duration": 0.036018,
     "end_time": "2023-08-03T00:16:38.796016",
     "exception": false,
     "start_time": "2023-08-03T00:16:38.759998",
     "status": "completed"
    },
    "tags": []
   },
   "outputs": [
    {
     "data": {
      "text/plain": [
       "partida_id             int64\n",
       "rodada                 int64\n",
       "data                  object\n",
       "hora                  object\n",
       "mandante              object\n",
       "visitante             object\n",
       "formacao_mandante     object\n",
       "formacao_visitante    object\n",
       "tecnico_mandante      object\n",
       "tecnico_visitante     object\n",
       "vencedor              object\n",
       "arena                 object\n",
       "mandante_Placar        int64\n",
       "visitante_Placar       int64\n",
       "mandante_Estado       object\n",
       "visitante_Estado      object\n",
       "dtype: object"
      ]
     },
     "execution_count": 20,
     "metadata": {},
     "output_type": "execute_result"
    }
   ],
   "source": [
    "df_full.dtypes"
   ]
  },
  {
   "cell_type": "code",
   "execution_count": 21,
   "id": "dc7b8da3",
   "metadata": {
    "execution": {
     "iopub.execute_input": "2023-08-03T00:16:38.850459Z",
     "iopub.status.busy": "2023-08-03T00:16:38.849777Z",
     "iopub.status.idle": "2023-08-03T00:16:38.870400Z",
     "shell.execute_reply": "2023-08-03T00:16:38.869277Z"
    },
    "papermill": {
     "duration": 0.050782,
     "end_time": "2023-08-03T00:16:38.873057",
     "exception": false,
     "start_time": "2023-08-03T00:16:38.822275",
     "status": "completed"
    },
    "tags": []
   },
   "outputs": [],
   "source": [
    "# Convertendo a coluna de datas para o tipo datetime\n",
    "df_full['data'] = pd.to_datetime(df_full['data'], format='%d/%m/%Y')\n",
    "# Padronizando coluna vencedor\n",
    "df_full['vencedor'].replace('-', 'Empate', inplace=True)"
   ]
  },
  {
   "cell_type": "code",
   "execution_count": 22,
   "id": "4f7849d3",
   "metadata": {
    "execution": {
     "iopub.execute_input": "2023-08-03T00:16:38.928329Z",
     "iopub.status.busy": "2023-08-03T00:16:38.927574Z",
     "iopub.status.idle": "2023-08-03T00:16:38.936194Z",
     "shell.execute_reply": "2023-08-03T00:16:38.935089Z"
    },
    "papermill": {
     "duration": 0.038914,
     "end_time": "2023-08-03T00:16:38.938473",
     "exception": false,
     "start_time": "2023-08-03T00:16:38.899559",
     "status": "completed"
    },
    "tags": []
   },
   "outputs": [
    {
     "data": {
      "text/plain": [
       "partida_id          int64\n",
       "rodada              int64\n",
       "clube              object\n",
       "chutes              int64\n",
       "chutes_no_alvo      int64\n",
       "posse_de_bola      object\n",
       "passes              int64\n",
       "precisao_passes    object\n",
       "faltas              int64\n",
       "cartao_amarelo      int64\n",
       "cartao_vermelho     int64\n",
       "impedimentos        int64\n",
       "escanteios          int64\n",
       "dtype: object"
      ]
     },
     "execution_count": 22,
     "metadata": {},
     "output_type": "execute_result"
    }
   ],
   "source": [
    "df_est_full.dtypes"
   ]
  },
  {
   "cell_type": "code",
   "execution_count": 23,
   "id": "cfc1c1c3",
   "metadata": {
    "execution": {
     "iopub.execute_input": "2023-08-03T00:16:38.993458Z",
     "iopub.status.busy": "2023-08-03T00:16:38.993085Z",
     "iopub.status.idle": "2023-08-03T00:16:39.004206Z",
     "shell.execute_reply": "2023-08-03T00:16:39.003169Z"
    },
    "papermill": {
     "duration": 0.041119,
     "end_time": "2023-08-03T00:16:39.006501",
     "exception": false,
     "start_time": "2023-08-03T00:16:38.965382",
     "status": "completed"
    },
    "tags": []
   },
   "outputs": [],
   "source": [
    "# Convertendo a coluna de posse_de_bola para o tipo inteiro\n",
    "df_est_full['posse_de_bola'] = df_est_full['posse_de_bola'].str[:2].astype(int)"
   ]
  },
  {
   "cell_type": "code",
   "execution_count": 24,
   "id": "7df7fbbe",
   "metadata": {
    "execution": {
     "iopub.execute_input": "2023-08-03T00:16:39.062385Z",
     "iopub.status.busy": "2023-08-03T00:16:39.062012Z",
     "iopub.status.idle": "2023-08-03T00:16:39.076746Z",
     "shell.execute_reply": "2023-08-03T00:16:39.075958Z"
    },
    "papermill": {
     "duration": 0.045575,
     "end_time": "2023-08-03T00:16:39.078918",
     "exception": false,
     "start_time": "2023-08-03T00:16:39.033343",
     "status": "completed"
    },
    "tags": []
   },
   "outputs": [
    {
     "ename": "ValueError",
     "evalue": "cannot convert float NaN to integer",
     "output_type": "error",
     "traceback": [
      "\u001b[1;31m---------------------------------------------------------------------------\u001b[0m",
      "\u001b[1;31mValueError\u001b[0m                                Traceback (most recent call last)",
      "Cell \u001b[1;32mIn[24], line 7\u001b[0m\n\u001b[0;32m      4\u001b[0m df_est_full[\u001b[38;5;124m'\u001b[39m\u001b[38;5;124mprecisao_passes\u001b[39m\u001b[38;5;124m'\u001b[39m]\u001b[38;5;241m.\u001b[39mreplace(\u001b[38;5;124m'\u001b[39m\u001b[38;5;124mNone\u001b[39m\u001b[38;5;124m'\u001b[39m,\u001b[38;5;124m'\u001b[39m\u001b[38;5;124m000\u001b[39m\u001b[38;5;124m'\u001b[39m, inplace\u001b[38;5;241m=\u001b[39m\u001b[38;5;28;01mTrue\u001b[39;00m)\n\u001b[0;32m      6\u001b[0m \u001b[38;5;66;03m# Convertendo a coluna para o tipo de dado inteiro\u001b[39;00m\n\u001b[1;32m----> 7\u001b[0m df_est_full[\u001b[38;5;124m'\u001b[39m\u001b[38;5;124mprecisao_passes\u001b[39m\u001b[38;5;124m'\u001b[39m] \u001b[38;5;241m=\u001b[39m df_est_full[\u001b[38;5;124m'\u001b[39m\u001b[38;5;124mprecisao_passes\u001b[39m\u001b[38;5;124m'\u001b[39m]\u001b[38;5;241m.\u001b[39mstr[:\u001b[38;5;241m2\u001b[39m]\u001b[38;5;241m.\u001b[39mastype(\u001b[38;5;28mint\u001b[39m)\n\u001b[0;32m      9\u001b[0m \u001b[38;5;66;03m# Preenchendo os valores NaN com a média dos outros valores\u001b[39;00m\n\u001b[0;32m     10\u001b[0m df_est_full\u001b[38;5;241m.\u001b[39mloc[df_est_full[\u001b[38;5;124m'\u001b[39m\u001b[38;5;124mprecisao_passes\u001b[39m\u001b[38;5;124m'\u001b[39m] \u001b[38;5;241m==\u001b[39m \u001b[38;5;241m0\u001b[39m, \u001b[38;5;124m'\u001b[39m\u001b[38;5;124mprecisao_passes\u001b[39m\u001b[38;5;124m'\u001b[39m] \u001b[38;5;241m=\u001b[39m pd\u001b[38;5;241m.\u001b[39mNA\n",
      "File \u001b[1;32md:\\anaconda3\\Lib\\site-packages\\pandas\\core\\generic.py:6324\u001b[0m, in \u001b[0;36mNDFrame.astype\u001b[1;34m(self, dtype, copy, errors)\u001b[0m\n\u001b[0;32m   6317\u001b[0m     results \u001b[38;5;241m=\u001b[39m [\n\u001b[0;32m   6318\u001b[0m         \u001b[38;5;28mself\u001b[39m\u001b[38;5;241m.\u001b[39miloc[:, i]\u001b[38;5;241m.\u001b[39mastype(dtype, copy\u001b[38;5;241m=\u001b[39mcopy)\n\u001b[0;32m   6319\u001b[0m         \u001b[38;5;28;01mfor\u001b[39;00m i \u001b[38;5;129;01min\u001b[39;00m \u001b[38;5;28mrange\u001b[39m(\u001b[38;5;28mlen\u001b[39m(\u001b[38;5;28mself\u001b[39m\u001b[38;5;241m.\u001b[39mcolumns))\n\u001b[0;32m   6320\u001b[0m     ]\n\u001b[0;32m   6322\u001b[0m \u001b[38;5;28;01melse\u001b[39;00m:\n\u001b[0;32m   6323\u001b[0m     \u001b[38;5;66;03m# else, only a single dtype is given\u001b[39;00m\n\u001b[1;32m-> 6324\u001b[0m     new_data \u001b[38;5;241m=\u001b[39m \u001b[38;5;28mself\u001b[39m\u001b[38;5;241m.\u001b[39m_mgr\u001b[38;5;241m.\u001b[39mastype(dtype\u001b[38;5;241m=\u001b[39mdtype, copy\u001b[38;5;241m=\u001b[39mcopy, errors\u001b[38;5;241m=\u001b[39merrors)\n\u001b[0;32m   6325\u001b[0m     \u001b[38;5;28;01mreturn\u001b[39;00m \u001b[38;5;28mself\u001b[39m\u001b[38;5;241m.\u001b[39m_constructor(new_data)\u001b[38;5;241m.\u001b[39m__finalize__(\u001b[38;5;28mself\u001b[39m, method\u001b[38;5;241m=\u001b[39m\u001b[38;5;124m\"\u001b[39m\u001b[38;5;124mastype\u001b[39m\u001b[38;5;124m\"\u001b[39m)\n\u001b[0;32m   6327\u001b[0m \u001b[38;5;66;03m# GH 33113: handle empty frame or series\u001b[39;00m\n",
      "File \u001b[1;32md:\\anaconda3\\Lib\\site-packages\\pandas\\core\\internals\\managers.py:451\u001b[0m, in \u001b[0;36mBaseBlockManager.astype\u001b[1;34m(self, dtype, copy, errors)\u001b[0m\n\u001b[0;32m    448\u001b[0m \u001b[38;5;28;01melif\u001b[39;00m using_copy_on_write():\n\u001b[0;32m    449\u001b[0m     copy \u001b[38;5;241m=\u001b[39m \u001b[38;5;28;01mFalse\u001b[39;00m\n\u001b[1;32m--> 451\u001b[0m \u001b[38;5;28;01mreturn\u001b[39;00m \u001b[38;5;28mself\u001b[39m\u001b[38;5;241m.\u001b[39mapply(\n\u001b[0;32m    452\u001b[0m     \u001b[38;5;124m\"\u001b[39m\u001b[38;5;124mastype\u001b[39m\u001b[38;5;124m\"\u001b[39m,\n\u001b[0;32m    453\u001b[0m     dtype\u001b[38;5;241m=\u001b[39mdtype,\n\u001b[0;32m    454\u001b[0m     copy\u001b[38;5;241m=\u001b[39mcopy,\n\u001b[0;32m    455\u001b[0m     errors\u001b[38;5;241m=\u001b[39merrors,\n\u001b[0;32m    456\u001b[0m     using_cow\u001b[38;5;241m=\u001b[39musing_copy_on_write(),\n\u001b[0;32m    457\u001b[0m )\n",
      "File \u001b[1;32md:\\anaconda3\\Lib\\site-packages\\pandas\\core\\internals\\managers.py:352\u001b[0m, in \u001b[0;36mBaseBlockManager.apply\u001b[1;34m(self, f, align_keys, **kwargs)\u001b[0m\n\u001b[0;32m    350\u001b[0m         applied \u001b[38;5;241m=\u001b[39m b\u001b[38;5;241m.\u001b[39mapply(f, \u001b[38;5;241m*\u001b[39m\u001b[38;5;241m*\u001b[39mkwargs)\n\u001b[0;32m    351\u001b[0m     \u001b[38;5;28;01melse\u001b[39;00m:\n\u001b[1;32m--> 352\u001b[0m         applied \u001b[38;5;241m=\u001b[39m \u001b[38;5;28mgetattr\u001b[39m(b, f)(\u001b[38;5;241m*\u001b[39m\u001b[38;5;241m*\u001b[39mkwargs)\n\u001b[0;32m    353\u001b[0m     result_blocks \u001b[38;5;241m=\u001b[39m extend_blocks(applied, result_blocks)\n\u001b[0;32m    355\u001b[0m out \u001b[38;5;241m=\u001b[39m \u001b[38;5;28mtype\u001b[39m(\u001b[38;5;28mself\u001b[39m)\u001b[38;5;241m.\u001b[39mfrom_blocks(result_blocks, \u001b[38;5;28mself\u001b[39m\u001b[38;5;241m.\u001b[39maxes)\n",
      "File \u001b[1;32md:\\anaconda3\\Lib\\site-packages\\pandas\\core\\internals\\blocks.py:511\u001b[0m, in \u001b[0;36mBlock.astype\u001b[1;34m(self, dtype, copy, errors, using_cow)\u001b[0m\n\u001b[0;32m    491\u001b[0m \u001b[38;5;250m\u001b[39m\u001b[38;5;124;03m\"\"\"\u001b[39;00m\n\u001b[0;32m    492\u001b[0m \u001b[38;5;124;03mCoerce to the new dtype.\u001b[39;00m\n\u001b[0;32m    493\u001b[0m \n\u001b[1;32m   (...)\u001b[0m\n\u001b[0;32m    507\u001b[0m \u001b[38;5;124;03mBlock\u001b[39;00m\n\u001b[0;32m    508\u001b[0m \u001b[38;5;124;03m\"\"\"\u001b[39;00m\n\u001b[0;32m    509\u001b[0m values \u001b[38;5;241m=\u001b[39m \u001b[38;5;28mself\u001b[39m\u001b[38;5;241m.\u001b[39mvalues\n\u001b[1;32m--> 511\u001b[0m new_values \u001b[38;5;241m=\u001b[39m astype_array_safe(values, dtype, copy\u001b[38;5;241m=\u001b[39mcopy, errors\u001b[38;5;241m=\u001b[39merrors)\n\u001b[0;32m    513\u001b[0m new_values \u001b[38;5;241m=\u001b[39m maybe_coerce_values(new_values)\n\u001b[0;32m    515\u001b[0m refs \u001b[38;5;241m=\u001b[39m \u001b[38;5;28;01mNone\u001b[39;00m\n",
      "File \u001b[1;32md:\\anaconda3\\Lib\\site-packages\\pandas\\core\\dtypes\\astype.py:242\u001b[0m, in \u001b[0;36mastype_array_safe\u001b[1;34m(values, dtype, copy, errors)\u001b[0m\n\u001b[0;32m    239\u001b[0m     dtype \u001b[38;5;241m=\u001b[39m dtype\u001b[38;5;241m.\u001b[39mnumpy_dtype\n\u001b[0;32m    241\u001b[0m \u001b[38;5;28;01mtry\u001b[39;00m:\n\u001b[1;32m--> 242\u001b[0m     new_values \u001b[38;5;241m=\u001b[39m astype_array(values, dtype, copy\u001b[38;5;241m=\u001b[39mcopy)\n\u001b[0;32m    243\u001b[0m \u001b[38;5;28;01mexcept\u001b[39;00m (\u001b[38;5;167;01mValueError\u001b[39;00m, \u001b[38;5;167;01mTypeError\u001b[39;00m):\n\u001b[0;32m    244\u001b[0m     \u001b[38;5;66;03m# e.g. _astype_nansafe can fail on object-dtype of strings\u001b[39;00m\n\u001b[0;32m    245\u001b[0m     \u001b[38;5;66;03m#  trying to convert to float\u001b[39;00m\n\u001b[0;32m    246\u001b[0m     \u001b[38;5;28;01mif\u001b[39;00m errors \u001b[38;5;241m==\u001b[39m \u001b[38;5;124m\"\u001b[39m\u001b[38;5;124mignore\u001b[39m\u001b[38;5;124m\"\u001b[39m:\n",
      "File \u001b[1;32md:\\anaconda3\\Lib\\site-packages\\pandas\\core\\dtypes\\astype.py:187\u001b[0m, in \u001b[0;36mastype_array\u001b[1;34m(values, dtype, copy)\u001b[0m\n\u001b[0;32m    184\u001b[0m     values \u001b[38;5;241m=\u001b[39m values\u001b[38;5;241m.\u001b[39mastype(dtype, copy\u001b[38;5;241m=\u001b[39mcopy)\n\u001b[0;32m    186\u001b[0m \u001b[38;5;28;01melse\u001b[39;00m:\n\u001b[1;32m--> 187\u001b[0m     values \u001b[38;5;241m=\u001b[39m _astype_nansafe(values, dtype, copy\u001b[38;5;241m=\u001b[39mcopy)\n\u001b[0;32m    189\u001b[0m \u001b[38;5;66;03m# in pandas we don't store numpy str dtypes, so convert to object\u001b[39;00m\n\u001b[0;32m    190\u001b[0m \u001b[38;5;28;01mif\u001b[39;00m \u001b[38;5;28misinstance\u001b[39m(dtype, np\u001b[38;5;241m.\u001b[39mdtype) \u001b[38;5;129;01mand\u001b[39;00m \u001b[38;5;28missubclass\u001b[39m(values\u001b[38;5;241m.\u001b[39mdtype\u001b[38;5;241m.\u001b[39mtype, \u001b[38;5;28mstr\u001b[39m):\n",
      "File \u001b[1;32md:\\anaconda3\\Lib\\site-packages\\pandas\\core\\dtypes\\astype.py:138\u001b[0m, in \u001b[0;36m_astype_nansafe\u001b[1;34m(arr, dtype, copy, skipna)\u001b[0m\n\u001b[0;32m    134\u001b[0m     \u001b[38;5;28;01mraise\u001b[39;00m \u001b[38;5;167;01mValueError\u001b[39;00m(msg)\n\u001b[0;32m    136\u001b[0m \u001b[38;5;28;01mif\u001b[39;00m copy \u001b[38;5;129;01mor\u001b[39;00m is_object_dtype(arr\u001b[38;5;241m.\u001b[39mdtype) \u001b[38;5;129;01mor\u001b[39;00m is_object_dtype(dtype):\n\u001b[0;32m    137\u001b[0m     \u001b[38;5;66;03m# Explicit copy, or required since NumPy can't view from / to object.\u001b[39;00m\n\u001b[1;32m--> 138\u001b[0m     \u001b[38;5;28;01mreturn\u001b[39;00m arr\u001b[38;5;241m.\u001b[39mastype(dtype, copy\u001b[38;5;241m=\u001b[39m\u001b[38;5;28;01mTrue\u001b[39;00m)\n\u001b[0;32m    140\u001b[0m \u001b[38;5;28;01mreturn\u001b[39;00m arr\u001b[38;5;241m.\u001b[39mastype(dtype, copy\u001b[38;5;241m=\u001b[39mcopy)\n",
      "\u001b[1;31mValueError\u001b[0m: cannot convert float NaN to integer"
     ]
    }
   ],
   "source": [
    "# Convertendo a coluna de precisao_passes para o tipo inteiro e preenchendo valores NaN pela media\n",
    "\n",
    "# Substituindo valores 'None' para '000'\n",
    "df_est_full['precisao_passes'].replace('None','000', inplace=True)\n",
    "\n",
    "# Convertendo a coluna para o tipo de dado inteiro\n",
    "df_est_full['precisao_passes'] = df_est_full['precisao_passes'].str[:2].astype(int)\n",
    "\n",
    "# Preenchendo os valores NaN com a média dos outros valores\n",
    "df_est_full.loc[df_est_full['precisao_passes'] == 0, 'precisao_passes'] = pd.NA\n",
    "df_est_full['precisao_passes'].fillna(df_est_full['precisao_passes'].mean(), inplace=True)\n",
    "\n",
    "# Convertendo novamente para o tipo de dado inteiro\n",
    "df_est_full['precisao_passes'] = df_est_full['precisao_passes'].astype(int)"
   ]
  },
  {
   "cell_type": "code",
   "execution_count": null,
   "id": "bd73d49f",
   "metadata": {
    "execution": {
     "iopub.execute_input": "2023-08-03T00:16:39.133320Z",
     "iopub.status.busy": "2023-08-03T00:16:39.132559Z",
     "iopub.status.idle": "2023-08-03T00:16:39.140822Z",
     "shell.execute_reply": "2023-08-03T00:16:39.139710Z"
    },
    "papermill": {
     "duration": 0.037654,
     "end_time": "2023-08-03T00:16:39.143040",
     "exception": false,
     "start_time": "2023-08-03T00:16:39.105386",
     "status": "completed"
    },
    "tags": []
   },
   "outputs": [],
   "source": [
    "df_gols.dtypes"
   ]
  },
  {
   "cell_type": "markdown",
   "id": "9eadb236",
   "metadata": {
    "papermill": {
     "duration": 0.026335,
     "end_time": "2023-08-03T00:16:39.196072",
     "exception": false,
     "start_time": "2023-08-03T00:16:39.169737",
     "status": "completed"
    },
    "tags": []
   },
   "source": [
    "Há referências de tempo como '45+2', que indicam a prorrogação. Para converter os minutos para valores inteiros, vou adicionar uma nova coluna chamada 'tempo', que mostrará o momento do jogo em que o gol foi feito. Dessa forma, '45+2' será transformado em 47, com a coluna 'tempo' marcada como 1, para indicar que o gol foi feito na prorrogação e não aos 47 minutos do segundo tempo."
   ]
  },
  {
   "cell_type": "code",
   "execution_count": null,
   "id": "4cabe6b2",
   "metadata": {
    "execution": {
     "iopub.execute_input": "2023-08-03T00:16:39.251599Z",
     "iopub.status.busy": "2023-08-03T00:16:39.250989Z",
     "iopub.status.idle": "2023-08-03T00:16:39.258742Z",
     "shell.execute_reply": "2023-08-03T00:16:39.257860Z"
    },
    "papermill": {
     "duration": 0.038396,
     "end_time": "2023-08-03T00:16:39.260965",
     "exception": false,
     "start_time": "2023-08-03T00:16:39.222569",
     "status": "completed"
    },
    "tags": []
   },
   "outputs": [],
   "source": [
    "# Função para verificar o tempo (primeiro ou segundo)\n",
    "def verificar_tempo(minuto):\n",
    "    if '+' in minuto:\n",
    "        partes = minuto.split('+')\n",
    "        if int(partes[0]) <= 45:\n",
    "            return 1 # Primeiro tempo\n",
    "        else:\n",
    "            return 2 # Segundo tempo\n",
    "    else:\n",
    "        if int(minuto) <= 45:\n",
    "            return 1 # Primeiro tempo\n",
    "        else:\n",
    "            return 2 # Segundo tempo\n",
    "    \n",
    "# Função para converter o formato de tempo com prorrogação (por exemplo, '45+2' para 47)\n",
    "def converter_tempo(minuto):\n",
    "    if '+' in minuto:\n",
    "        partes = minuto.split('+')\n",
    "        return int(partes[0]) + int(partes[1])\n",
    "    else:\n",
    "        return int(minuto)"
   ]
  },
  {
   "cell_type": "code",
   "execution_count": null,
   "id": "cbeeb0be",
   "metadata": {
    "execution": {
     "iopub.execute_input": "2023-08-03T00:16:39.317906Z",
     "iopub.status.busy": "2023-08-03T00:16:39.317243Z",
     "iopub.status.idle": "2023-08-03T00:16:39.339541Z",
     "shell.execute_reply": "2023-08-03T00:16:39.338579Z"
    },
    "papermill": {
     "duration": 0.053453,
     "end_time": "2023-08-03T00:16:39.342062",
     "exception": false,
     "start_time": "2023-08-03T00:16:39.288609",
     "status": "completed"
    },
    "tags": []
   },
   "outputs": [],
   "source": [
    "# Aplicando as conversões\n",
    "df_gols['tempo'] = df_gols['minuto'].apply(verificar_tempo)\n",
    "df_gols['minuto'] = df_gols['minuto'].apply(converter_tempo)"
   ]
  },
  {
   "cell_type": "code",
   "execution_count": null,
   "id": "e610e8f1",
   "metadata": {
    "execution": {
     "iopub.execute_input": "2023-08-03T00:16:39.398027Z",
     "iopub.status.busy": "2023-08-03T00:16:39.397292Z",
     "iopub.status.idle": "2023-08-03T00:16:39.405234Z",
     "shell.execute_reply": "2023-08-03T00:16:39.404037Z"
    },
    "papermill": {
     "duration": 0.038487,
     "end_time": "2023-08-03T00:16:39.407507",
     "exception": false,
     "start_time": "2023-08-03T00:16:39.369020",
     "status": "completed"
    },
    "tags": []
   },
   "outputs": [],
   "source": [
    "df_cartoes.dtypes"
   ]
  },
  {
   "cell_type": "code",
   "execution_count": null,
   "id": "ff1a8d0d",
   "metadata": {
    "execution": {
     "iopub.execute_input": "2023-08-03T00:16:39.462692Z",
     "iopub.status.busy": "2023-08-03T00:16:39.462331Z",
     "iopub.status.idle": "2023-08-03T00:16:39.502397Z",
     "shell.execute_reply": "2023-08-03T00:16:39.501339Z"
    },
    "papermill": {
     "duration": 0.070418,
     "end_time": "2023-08-03T00:16:39.504793",
     "exception": false,
     "start_time": "2023-08-03T00:16:39.434375",
     "status": "completed"
    },
    "tags": []
   },
   "outputs": [],
   "source": [
    "# Aplicando as conversões\n",
    "df_cartoes['tempo'] = df_cartoes['minuto'].apply(verificar_tempo)\n",
    "df_cartoes['minuto'] = df_cartoes['minuto'].apply(converter_tempo)"
   ]
  },
  {
   "cell_type": "markdown",
   "id": "91b02227",
   "metadata": {
    "papermill": {
     "duration": 0.027165,
     "end_time": "2023-08-03T00:16:39.558568",
     "exception": false,
     "start_time": "2023-08-03T00:16:39.531403",
     "status": "completed"
    },
    "tags": []
   },
   "source": [
    "### Observando as datas dos datasets "
   ]
  },
  {
   "cell_type": "code",
   "execution_count": null,
   "id": "7bcc3e27",
   "metadata": {
    "execution": {
     "iopub.execute_input": "2023-08-03T00:16:39.613239Z",
     "iopub.status.busy": "2023-08-03T00:16:39.612434Z",
     "iopub.status.idle": "2023-08-03T00:16:39.618638Z",
     "shell.execute_reply": "2023-08-03T00:16:39.617925Z"
    },
    "papermill": {
     "duration": 0.035927,
     "end_time": "2023-08-03T00:16:39.620617",
     "exception": false,
     "start_time": "2023-08-03T00:16:39.584690",
     "status": "completed"
    },
    "tags": []
   },
   "outputs": [],
   "source": [
    "df_est_full['partida_id'].min()"
   ]
  },
  {
   "cell_type": "code",
   "execution_count": null,
   "id": "315ef38e",
   "metadata": {
    "execution": {
     "iopub.execute_input": "2023-08-03T00:16:39.676143Z",
     "iopub.status.busy": "2023-08-03T00:16:39.675507Z",
     "iopub.status.idle": "2023-08-03T00:16:39.695145Z",
     "shell.execute_reply": "2023-08-03T00:16:39.693938Z"
    },
    "papermill": {
     "duration": 0.050065,
     "end_time": "2023-08-03T00:16:39.697590",
     "exception": false,
     "start_time": "2023-08-03T00:16:39.647525",
     "status": "completed"
    },
    "tags": []
   },
   "outputs": [],
   "source": [
    "df_full[df_full.partida_id > 4698].head(3)"
   ]
  },
  {
   "cell_type": "markdown",
   "id": "ad20f10b",
   "metadata": {
    "papermill": {
     "duration": 0.027182,
     "end_time": "2023-08-03T00:16:39.753147",
     "exception": false,
     "start_time": "2023-08-03T00:16:39.725965",
     "status": "completed"
    },
    "tags": []
   },
   "source": [
    "Dataset \"campeonato-brasileiro-estatisticas-full\" a partir da rodada 10 do ano de 2014."
   ]
  },
  {
   "cell_type": "code",
   "execution_count": null,
   "id": "549c94f2",
   "metadata": {
    "execution": {
     "iopub.execute_input": "2023-08-03T00:16:39.809525Z",
     "iopub.status.busy": "2023-08-03T00:16:39.808715Z",
     "iopub.status.idle": "2023-08-03T00:16:39.815793Z",
     "shell.execute_reply": "2023-08-03T00:16:39.814733Z"
    },
    "papermill": {
     "duration": 0.037764,
     "end_time": "2023-08-03T00:16:39.818061",
     "exception": false,
     "start_time": "2023-08-03T00:16:39.780297",
     "status": "completed"
    },
    "tags": []
   },
   "outputs": [],
   "source": [
    "df_gols['partida_id'].min()"
   ]
  },
  {
   "cell_type": "code",
   "execution_count": null,
   "id": "a233f08e",
   "metadata": {
    "execution": {
     "iopub.execute_input": "2023-08-03T00:16:39.874083Z",
     "iopub.status.busy": "2023-08-03T00:16:39.873671Z",
     "iopub.status.idle": "2023-08-03T00:16:39.880909Z",
     "shell.execute_reply": "2023-08-03T00:16:39.879868Z"
    },
    "papermill": {
     "duration": 0.037976,
     "end_time": "2023-08-03T00:16:39.883119",
     "exception": false,
     "start_time": "2023-08-03T00:16:39.845143",
     "status": "completed"
    },
    "tags": []
   },
   "outputs": [],
   "source": [
    "df_cartoes['partida_id'].min()"
   ]
  },
  {
   "cell_type": "code",
   "execution_count": null,
   "id": "44afa0a7",
   "metadata": {
    "execution": {
     "iopub.execute_input": "2023-08-03T00:16:39.939418Z",
     "iopub.status.busy": "2023-08-03T00:16:39.939025Z",
     "iopub.status.idle": "2023-08-03T00:16:39.958733Z",
     "shell.execute_reply": "2023-08-03T00:16:39.957747Z"
    },
    "papermill": {
     "duration": 0.050551,
     "end_time": "2023-08-03T00:16:39.960935",
     "exception": false,
     "start_time": "2023-08-03T00:16:39.910384",
     "status": "completed"
    },
    "tags": []
   },
   "outputs": [],
   "source": [
    "df_full[df_full.partida_id > 4607].head(3)"
   ]
  },
  {
   "cell_type": "markdown",
   "id": "b0f6c056",
   "metadata": {
    "papermill": {
     "duration": 0.027709,
     "end_time": "2023-08-03T00:16:40.016296",
     "exception": false,
     "start_time": "2023-08-03T00:16:39.988587",
     "status": "completed"
    },
    "tags": []
   },
   "source": [
    "Dataset \"campeonato-brasileiro-gols\" e \"campeonato-brasileiro-cartoes\" a partir da rodada 1 do ano de 2014."
   ]
  },
  {
   "cell_type": "markdown",
   "id": "ae3750a2",
   "metadata": {
    "papermill": {
     "duration": 0.027522,
     "end_time": "2023-08-03T00:16:40.071659",
     "exception": false,
     "start_time": "2023-08-03T00:16:40.044137",
     "status": "completed"
    },
    "tags": []
   },
   "source": [
    "# Perguntas"
   ]
  },
  {
   "cell_type": "markdown",
   "id": "7b6f9d1b",
   "metadata": {
    "papermill": {
     "duration": 0.027501,
     "end_time": "2023-08-03T00:16:40.126930",
     "exception": false,
     "start_time": "2023-08-03T00:16:40.099429",
     "status": "completed"
    },
    "tags": []
   },
   "source": [
    "### 1 - Os 10 times com mais vitórias, empates, derrotas no campeonato brasileiro desde 2003?"
   ]
  },
  {
   "cell_type": "code",
   "execution_count": null,
   "id": "79d8067e",
   "metadata": {
    "execution": {
     "iopub.execute_input": "2023-08-03T00:16:40.184139Z",
     "iopub.status.busy": "2023-08-03T00:16:40.183654Z",
     "iopub.status.idle": "2023-08-03T00:16:40.212240Z",
     "shell.execute_reply": "2023-08-03T00:16:40.211116Z"
    },
    "papermill": {
     "duration": 0.060424,
     "end_time": "2023-08-03T00:16:40.214982",
     "exception": false,
     "start_time": "2023-08-03T00:16:40.154558",
     "status": "completed"
    },
    "tags": []
   },
   "outputs": [],
   "source": [
    "# Calculando os times com mais vitórias\n",
    "vitorias_por_time = df_full['vencedor'].value_counts()\n",
    "\n",
    "# Calculando os times com mais empates\n",
    "# Somar o número de empates dentro e fora de casa de um time e ordenar descrescente\n",
    "empates_por_time = pd.concat([df_full['mandante'][df_full['vencedor'] == 'Empate'].value_counts(),\n",
    "                             df_full['visitante'][df_full['vencedor'] == 'Empate'].value_counts()],\n",
    "                            axis=1).sum(axis=1).sort_values(ascending=False)\n",
    "\n",
    "# Calculando os times com mais derrotas\n",
    "# Somar o número de derrotas dentro e fora de casa de um time e ordenar descrescente\n",
    "# Se o time for mandante e o vencedor for o visitante o time mandante perdeu.\n",
    "derrotas_por_time = pd.concat([df_full['mandante'][df_full['vencedor'] == df_full['visitante']].value_counts(),\n",
    "                              df_full['visitante'][df_full['vencedor'] == df_full['mandante']].value_counts()],\n",
    "                             axis=1).sum(axis=1).sort_values(ascending=False)\n",
    "\n"
   ]
  },
  {
   "cell_type": "code",
   "execution_count": null,
   "id": "97152483",
   "metadata": {
    "execution": {
     "iopub.execute_input": "2023-08-03T00:16:40.272875Z",
     "iopub.status.busy": "2023-08-03T00:16:40.272501Z",
     "iopub.status.idle": "2023-08-03T00:16:41.914668Z",
     "shell.execute_reply": "2023-08-03T00:16:41.913593Z"
    },
    "papermill": {
     "duration": 1.674175,
     "end_time": "2023-08-03T00:16:41.917005",
     "exception": false,
     "start_time": "2023-08-03T00:16:40.242830",
     "status": "completed"
    },
    "tags": []
   },
   "outputs": [],
   "source": [
    "# Configurações de estilo para melhorar a estética dos gráficos\n",
    "sns.set(style=\"whitegrid\", font_scale=1.2)\n",
    "\n",
    "# Gráfico dos 10 times com mais vitórias\n",
    "top_10_vitorias = vitorias_por_time[1:11]\n",
    "plt.figure(figsize=(12, 6))\n",
    "sns.barplot(x=top_10_vitorias.index, y=top_10_vitorias.values, palette=\"Blues_r\")\n",
    "plt.ylabel('Número de Vitórias')\n",
    "plt.title('Top 10 Times com Mais Vitórias')\n",
    "plt.xticks(rotation=30)\n",
    "\n",
    "# Adicionando a legenda com o número de Y em cada barra\n",
    "for index, value in enumerate(top_10_vitorias.values):\n",
    "    plt.text(index, value, str(value), ha='center', va='bottom', fontsize=12)\n",
    "\n",
    "# Ajustando a figura\n",
    "plt.tight_layout()\n",
    "plt.show()\n",
    "\n",
    "# Gráfico dos 10 times com mais empates\n",
    "top_10_empates = empates_por_time[0:10]\n",
    "plt.figure(figsize=(12, 6))\n",
    "sns.barplot(x=top_10_empates.index, y=top_10_empates.values, palette=\"Oranges_r\")\n",
    "plt.ylabel('Número de Empates')\n",
    "plt.title('Top 10 Times com Mais Empates')\n",
    "plt.xticks(rotation=30)\n",
    "\n",
    "# Adicionando a legenda com o número de Y em cada barra\n",
    "for index, value in enumerate(top_10_empates.values):\n",
    "    plt.text(index, value, str(value), ha='center', va='bottom', fontsize=12)\n",
    "\n",
    "# Ajustando a figura\n",
    "plt.tight_layout()\n",
    "plt.show()\n",
    "\n",
    "# Gráfico dos 10 times com mais derrotas\n",
    "top_10_derrotas = derrotas_por_time[0:10]\n",
    "plt.figure(figsize=(12, 6))\n",
    "ax3 = sns.barplot(x=top_10_derrotas.index, y=top_10_derrotas.values, palette=\"Greys_r\")\n",
    "plt.ylabel('Número de Derrotas')\n",
    "plt.title('Top 10 Times com Mais Derrotas')\n",
    "plt.xticks(rotation=30)\n",
    "\n",
    "# Adicionando a legenda com o número de Y em cada barra\n",
    "for index, value in enumerate(top_10_derrotas.values):\n",
    "    plt.text(index, value, str(value), ha='center', va='bottom', fontsize=12)\n",
    "\n",
    "# Ajustando a figura\n",
    "plt.tight_layout()\n",
    "plt.show()"
   ]
  },
  {
   "cell_type": "markdown",
   "id": "799038d8",
   "metadata": {
    "papermill": {
     "duration": 0.031028,
     "end_time": "2023-08-03T00:16:41.979262",
     "exception": false,
     "start_time": "2023-08-03T00:16:41.948234",
     "status": "completed"
    },
    "tags": []
   },
   "source": [
    "### 2 - Quais foram os 20 melhores times desde 2003?"
   ]
  },
  {
   "cell_type": "code",
   "execution_count": null,
   "id": "64ec0cea",
   "metadata": {
    "execution": {
     "iopub.execute_input": "2023-08-03T00:16:42.044785Z",
     "iopub.status.busy": "2023-08-03T00:16:42.044401Z",
     "iopub.status.idle": "2023-08-03T00:16:42.051891Z",
     "shell.execute_reply": "2023-08-03T00:16:42.050885Z"
    },
    "papermill": {
     "duration": 0.042444,
     "end_time": "2023-08-03T00:16:42.053991",
     "exception": false,
     "start_time": "2023-08-03T00:16:42.011547",
     "status": "completed"
    },
    "tags": []
   },
   "outputs": [],
   "source": [
    "# Criando a tabela\n",
    "df_tabela = pd.DataFrame(columns=['Time', 'Partidas Jogadas', 'Vitórias', 'Empates', 'Derrotas', 'Pontos', 'Aproveitamento'])"
   ]
  },
  {
   "cell_type": "code",
   "execution_count": null,
   "id": "446e9bf6",
   "metadata": {
    "execution": {
     "iopub.execute_input": "2023-08-03T00:16:42.120212Z",
     "iopub.status.busy": "2023-08-03T00:16:42.119533Z",
     "iopub.status.idle": "2023-08-03T00:16:42.127551Z",
     "shell.execute_reply": "2023-08-03T00:16:42.126768Z"
    },
    "papermill": {
     "duration": 0.043419,
     "end_time": "2023-08-03T00:16:42.129390",
     "exception": false,
     "start_time": "2023-08-03T00:16:42.085971",
     "status": "completed"
    },
    "tags": []
   },
   "outputs": [],
   "source": [
    "# Calculando o número de pontos para cada time (soma das vitórias e empates)\n",
    "pontos_por_time = ((vitorias_por_time * 3) + empates_por_time).sort_values(ascending=False)"
   ]
  },
  {
   "cell_type": "code",
   "execution_count": null,
   "id": "83f70368",
   "metadata": {
    "execution": {
     "iopub.execute_input": "2023-08-03T00:16:42.194088Z",
     "iopub.status.busy": "2023-08-03T00:16:42.193685Z",
     "iopub.status.idle": "2023-08-03T00:16:42.210130Z",
     "shell.execute_reply": "2023-08-03T00:16:42.209099Z"
    },
    "papermill": {
     "duration": 0.051599,
     "end_time": "2023-08-03T00:16:42.212150",
     "exception": false,
     "start_time": "2023-08-03T00:16:42.160551",
     "status": "completed"
    },
    "tags": []
   },
   "outputs": [],
   "source": [
    "# Preechendo a tabela\n",
    "df_tabela['Time'] = pontos_por_time.index[:20]\n",
    "df_tabela['Pontos'] = pontos_por_time.values[:20].astype(int)\n",
    "df_tabela['Vitórias'] = df_tabela['Time'].map(vitorias_por_time)\n",
    "df_tabela['Empates'] = df_tabela['Time'].map(empates_por_time)\n",
    "df_tabela['Derrotas'] = df_tabela['Time'].map(derrotas_por_time)\n",
    "df_tabela['Partidas Jogadas'] = df_tabela['Vitórias'] + df_tabela['Empates'] + df_tabela['Derrotas']\n",
    "\n",
    "# Calculando o aproveitamento\n",
    "df_tabela['Aproveitamento'] = ((df_tabela['Vitórias'] * 3 + df_tabela['Empates']) / \n",
    "                               ((df_tabela['Vitórias'] + df_tabela['Empates'] + df_tabela['Derrotas']) * 3)) * 100\n",
    "\n",
    "# Arredondando o valor para duas casas decimais e adicionando o símbolo de porcentagem (%)\n",
    "df_tabela['Aproveitamento'] = df_tabela['Aproveitamento'].round(2).astype(str) + '%'"
   ]
  },
  {
   "cell_type": "code",
   "execution_count": null,
   "id": "b082bfff",
   "metadata": {
    "execution": {
     "iopub.execute_input": "2023-08-03T00:16:42.276526Z",
     "iopub.status.busy": "2023-08-03T00:16:42.276085Z",
     "iopub.status.idle": "2023-08-03T00:16:42.292491Z",
     "shell.execute_reply": "2023-08-03T00:16:42.291261Z"
    },
    "papermill": {
     "duration": 0.051059,
     "end_time": "2023-08-03T00:16:42.294845",
     "exception": false,
     "start_time": "2023-08-03T00:16:42.243786",
     "status": "completed"
    },
    "tags": []
   },
   "outputs": [],
   "source": [
    "# Ajustando o index da tabela\n",
    "df_tabela.index = range(1, len(df_tabela) + 1)\n",
    "df_tabela"
   ]
  },
  {
   "cell_type": "markdown",
   "id": "e8580b2f",
   "metadata": {
    "papermill": {
     "duration": 0.031318,
     "end_time": "2023-08-03T00:16:42.358259",
     "exception": false,
     "start_time": "2023-08-03T00:16:42.326941",
     "status": "completed"
    },
    "tags": []
   },
   "source": [
    "### 3 -  Quais são os 10 melhores mandantes e os 10 melhres visitantes desde 2003?"
   ]
  },
  {
   "cell_type": "code",
   "execution_count": null,
   "id": "9e19188b",
   "metadata": {
    "execution": {
     "iopub.execute_input": "2023-08-03T00:16:42.424031Z",
     "iopub.status.busy": "2023-08-03T00:16:42.422952Z",
     "iopub.status.idle": "2023-08-03T00:16:42.451233Z",
     "shell.execute_reply": "2023-08-03T00:16:42.450328Z"
    },
    "papermill": {
     "duration": 0.063572,
     "end_time": "2023-08-03T00:16:42.453625",
     "exception": false,
     "start_time": "2023-08-03T00:16:42.390053",
     "status": "completed"
    },
    "tags": []
   },
   "outputs": [],
   "source": [
    "# Calculando os 10 melhores mandantes\n",
    "mandantes = ((((df_full['mandante'][df_full['vencedor'] == df_full['mandante']].value_counts() * 3) \n",
    "               + df_full['mandante'][df_full['vencedor'] == 'Empate'].value_counts()) \n",
    "              / (df_full['mandante'].value_counts() * 3)) * 100).sort_values(ascending=False)[:10]\n",
    "\n",
    "# Calculando os 10 melhores visitantes\n",
    "visitantes = ((((df_full['visitante'][df_full['vencedor'] == df_full['visitante']].value_counts() * 3) \n",
    "               + df_full['visitante'][df_full['vencedor'] == 'Empate'].value_counts()) \n",
    "              / (df_full['visitante'].value_counts() * 3)) * 100).sort_values(ascending=False)[:10]\n",
    "\n",
    "# Arredondando o valor para duas casas decimais e adicionando o símbolo de porcentagem (%)\n",
    "mandantes = mandantes.round(2)\n",
    "visitantes = visitantes.round(2)"
   ]
  },
  {
   "cell_type": "code",
   "execution_count": null,
   "id": "9c72bddd",
   "metadata": {
    "execution": {
     "iopub.execute_input": "2023-08-03T00:16:42.518912Z",
     "iopub.status.busy": "2023-08-03T00:16:42.518496Z",
     "iopub.status.idle": "2023-08-03T00:16:43.707379Z",
     "shell.execute_reply": "2023-08-03T00:16:43.706400Z"
    },
    "papermill": {
     "duration": 1.224444,
     "end_time": "2023-08-03T00:16:43.709817",
     "exception": false,
     "start_time": "2023-08-03T00:16:42.485373",
     "status": "completed"
    },
    "tags": []
   },
   "outputs": [],
   "source": [
    "# Gráfico dos 10 melhores mandantes\n",
    "plt.figure(figsize=(12, 6))\n",
    "sns.barplot(x=mandantes.index, y=mandantes.values, palette=\"Reds_r\", linewidth=1, edgecolor='black')\n",
    "plt.ylabel('Aproveitamento (%)')\n",
    "plt.title('Top 10 Mandantes')\n",
    "plt.xticks(rotation=30)\n",
    "\n",
    "# Definir os ticks do eixo y para serem exibidos em intervalos de 10 em 10\n",
    "plt.yticks(range(0, 101, 10))\n",
    "\n",
    "# Adicionando a legenda com o número de Y em cada barra\n",
    "for index, value in enumerate(mandantes.values):\n",
    "    plt.text(index, value, str(value), ha='center', va='bottom', fontsize=13)\n",
    "\n",
    "# Ajustando a figura\n",
    "plt.tight_layout()\n",
    "plt.show()\n",
    "\n",
    "# Gráfico dos 10 melhores visitantes\n",
    "plt.figure(figsize=(12, 6))\n",
    "sns.barplot(x=visitantes.index, y=visitantes.values, palette=\"RdGy\", linewidth=1, edgecolor='black')\n",
    "plt.ylabel('Aproveitamento (%)')\n",
    "plt.title('Top 10 Visitantes')\n",
    "plt.xticks(rotation=30)\n",
    "\n",
    "# Definir os ticks do eixo y para serem exibidos em intervalos de 10 em 10\n",
    "plt.yticks(range(0, 101, 10))\n",
    "\n",
    "# Adicionando a legenda com o número de Y em cada barra\n",
    "for index, value in enumerate(visitantes.values):\n",
    "    plt.text(index, value, str(value), ha='center', va='bottom', fontsize=13)\n",
    "\n",
    "# Ajustando a figura\n",
    "plt.tight_layout()\n",
    "plt.show()"
   ]
  },
  {
   "cell_type": "markdown",
   "id": "c70058b5",
   "metadata": {
    "papermill": {
     "duration": 0.033926,
     "end_time": "2023-08-03T00:16:43.777914",
     "exception": false,
     "start_time": "2023-08-03T00:16:43.743988",
     "status": "completed"
    },
    "tags": []
   },
   "source": [
    "### 4 - Quais foram os placares mais comuns desde 2003?"
   ]
  },
  {
   "cell_type": "code",
   "execution_count": null,
   "id": "4fca0302",
   "metadata": {
    "execution": {
     "iopub.execute_input": "2023-08-03T00:16:43.848254Z",
     "iopub.status.busy": "2023-08-03T00:16:43.847624Z",
     "iopub.status.idle": "2023-08-03T00:16:43.875039Z",
     "shell.execute_reply": "2023-08-03T00:16:43.874094Z"
    },
    "papermill": {
     "duration": 0.065425,
     "end_time": "2023-08-03T00:16:43.877457",
     "exception": false,
     "start_time": "2023-08-03T00:16:43.812032",
     "status": "completed"
    },
    "tags": []
   },
   "outputs": [],
   "source": [
    "# Criação da nova coluna 'Placar'\n",
    "df_full['Placar'] = [f\"{m} x {v}\" if m >= v else f\"{v} x {m}\" \n",
    "                     for m, v in zip(df_full['mandante_Placar'], df_full['visitante_Placar'])]\n",
    "\n",
    "# Contagem dos placares\n",
    "df_placares = df_full['Placar'].value_counts().reset_index()\n",
    "\n",
    "# Renomeando as colunas\n",
    "df_placares = df_placares.rename(columns={'Placar': 'Quantidade'})\n",
    "df_placares = df_placares.rename(columns={'index': 'Placar'})\n",
    "\n",
    "# Agrupando os placares menos frequentes a partir do décimo primeiro valor como 'Outros'\n",
    "outros = {\n",
    "    'Placar': 'Outros',\n",
    "    'Quantidade': df_placares[df_placares.index >= 10]['Quantidade'].sum()\n",
    "}\n",
    "df_placares = df_placares[df_placares.index < 10].append(outros, ignore_index=True)\n",
    "\n",
    "# Selecionando os 10 placares mais frequentes\n",
    "top_placares = df_placares.nlargest(10, columns='Quantidade')"
   ]
  },
  {
   "cell_type": "code",
   "execution_count": null,
   "id": "04dd923f",
   "metadata": {
    "execution": {
     "iopub.execute_input": "2023-08-03T00:16:43.948386Z",
     "iopub.status.busy": "2023-08-03T00:16:43.947702Z",
     "iopub.status.idle": "2023-08-03T00:16:44.288309Z",
     "shell.execute_reply": "2023-08-03T00:16:44.287253Z"
    },
    "papermill": {
     "duration": 0.379161,
     "end_time": "2023-08-03T00:16:44.290751",
     "exception": false,
     "start_time": "2023-08-03T00:16:43.911590",
     "status": "completed"
    },
    "tags": []
   },
   "outputs": [],
   "source": [
    "# Gerando uma paleta de 10 cores mais escuras que combinem com a cor base\n",
    "paleta_cores = sns.color_palette(\"mako\", n_colors=10)\n",
    "\n",
    "# Plotagem do gráfico de pizza\n",
    "plt.figure(figsize=(13, 7))  \n",
    "plt.pie(top_placares['Quantidade'].values, labels=top_placares['Placar'].values, \n",
    "        startangle=90, shadow=True, autopct='%1.1f%%', colors=paleta_cores, textprops={'fontsize': 12})\n",
    "\n",
    "# Adicionando o buraco na pizza\n",
    "centre_circle = plt.Circle((0, 0), 0.80, fc = 'white')\n",
    "fig = plt.gcf()\n",
    "fig.gca().add_artist(centre_circle)\n",
    "\n",
    "plt.title('Distribuição dos Placares de Jogos') \n",
    "\n",
    "# Mostrando o gráfico\n",
    "plt.show()"
   ]
  },
  {
   "cell_type": "markdown",
   "id": "c025d0cb",
   "metadata": {
    "papermill": {
     "duration": 0.034551,
     "end_time": "2023-08-03T00:16:44.360368",
     "exception": false,
     "start_time": "2023-08-03T00:16:44.325817",
     "status": "completed"
    },
    "tags": []
   },
   "source": [
    "### 5 - Como é a distribuição de gols em cada minuto desde 2014?"
   ]
  },
  {
   "cell_type": "code",
   "execution_count": null,
   "id": "c664e8c6",
   "metadata": {
    "execution": {
     "iopub.execute_input": "2023-08-03T00:16:44.433958Z",
     "iopub.status.busy": "2023-08-03T00:16:44.433537Z",
     "iopub.status.idle": "2023-08-03T00:16:44.439311Z",
     "shell.execute_reply": "2023-08-03T00:16:44.438080Z"
    },
    "papermill": {
     "duration": 0.045031,
     "end_time": "2023-08-03T00:16:44.441425",
     "exception": false,
     "start_time": "2023-08-03T00:16:44.396394",
     "status": "completed"
    },
    "tags": []
   },
   "outputs": [],
   "source": [
    "# Função para transformar os minutos em categorias '45+' e '90+'\n",
    "def categorizar_minutos(row):\n",
    "    minuto = row['minuto']\n",
    "    tempo = row['tempo']\n",
    "    if minuto > 90:\n",
    "        return '90+'\n",
    "    elif minuto > 45 and tempo == 1:\n",
    "        return '45+'\n",
    "    else:\n",
    "        return minuto"
   ]
  },
  {
   "cell_type": "code",
   "execution_count": null,
   "id": "5557f858",
   "metadata": {
    "execution": {
     "iopub.execute_input": "2023-08-03T00:16:44.513384Z",
     "iopub.status.busy": "2023-08-03T00:16:44.512645Z",
     "iopub.status.idle": "2023-08-03T00:16:44.668743Z",
     "shell.execute_reply": "2023-08-03T00:16:44.667812Z"
    },
    "papermill": {
     "duration": 0.195348,
     "end_time": "2023-08-03T00:16:44.671440",
     "exception": false,
     "start_time": "2023-08-03T00:16:44.476092",
     "status": "completed"
    },
    "tags": []
   },
   "outputs": [],
   "source": [
    "# Aplicando slicing para selecionar as colunas 'minuto' e 'tempo' do DataFrame br_gols\n",
    "df_gols_por_minuto = df_gols[['minuto', 'tempo']]\n",
    "\n",
    "# Aplicando a função categorizar_minutos aos minutos do DataFrame gols_por_minuto\n",
    "df_gols_por_minuto['minuto_categorizado'] = df_gols_por_minuto.apply(categorizar_minutos, axis=1)\n",
    "\n",
    "# Realizando a agregação dos gols por minuto categorizado\n",
    "df_gols_por_minuto = df_gols_por_minuto['minuto_categorizado'].value_counts().reset_index()\n",
    "\n",
    "# Renomeando as colunas para 'Minuto' e 'Gols'\n",
    "df_gols_por_minuto = df_gols_por_minuto.rename(columns={'minuto_categorizado': 'Gols'})\n",
    "df_gols_por_minuto = df_gols_por_minuto.rename(columns={'index': 'Minuto'})"
   ]
  },
  {
   "cell_type": "code",
   "execution_count": null,
   "id": "603bff09",
   "metadata": {
    "execution": {
     "iopub.execute_input": "2023-08-03T00:16:44.743927Z",
     "iopub.status.busy": "2023-08-03T00:16:44.743515Z",
     "iopub.status.idle": "2023-08-03T00:16:44.758931Z",
     "shell.execute_reply": "2023-08-03T00:16:44.758131Z"
    },
    "papermill": {
     "duration": 0.054036,
     "end_time": "2023-08-03T00:16:44.760926",
     "exception": false,
     "start_time": "2023-08-03T00:16:44.706890",
     "status": "completed"
    },
    "tags": []
   },
   "outputs": [],
   "source": [
    "# O restante do codigo foi feito para ordenar os minutos\n",
    "\n",
    "# Selecionando as linhas em que o valor da coluna 'Minuto' é igual a '45+'\n",
    "prorrogacao_45 = df_gols_por_minuto[df_gols_por_minuto['Minuto'] == '45+'].copy()\n",
    "\n",
    "# Removendo as linhas do DataFrame 'gols_por_minuto' em que o valor da coluna 'Minuto' é igual a '45+'\n",
    "df_gols_por_minuto.drop(df_gols_por_minuto[df_gols_por_minuto['Minuto'] == '45+'].index, inplace=True)\n",
    "\n",
    "# Substitui o valor '90+' na coluna 'Minuto' por 91\n",
    "df_gols_por_minuto['Minuto'].replace('90+', 91, inplace=True)\n",
    "\n",
    "# Ordenando o DataFrame 'gols_por_minuto' com base na coluna 'Minuto'\n",
    "df_gols_por_minuto = df_gols_por_minuto.sort_values(by='Minuto')\n",
    "\n",
    "# Substituindo o valor 91 na coluna 'Minuto' por '90+'\n",
    "df_gols_por_minuto['Minuto'].replace(91, '90+', inplace=True)\n",
    "\n",
    "# Encontrando o índice da primeira ocorrência do valor 45 na coluna 'Minuto'\n",
    "indice_inserir = df_gols_por_minuto[df_gols_por_minuto['Minuto'] == 45].index[0] + 1\n",
    "\n",
    "# Adicionando a linha 'prorrogacao_45' ao 'gols_por_minuto'\n",
    "df_gols_por_minuto = pd.concat([df_gols_por_minuto.loc[:indice_inserir-1], prorrogacao_45,\n",
    "                             df_gols_por_minuto.loc[indice_inserir:]]).reset_index(drop=True)"
   ]
  },
  {
   "cell_type": "code",
   "execution_count": null,
   "id": "d5e01adb",
   "metadata": {
    "execution": {
     "iopub.execute_input": "2023-08-03T00:16:44.834038Z",
     "iopub.status.busy": "2023-08-03T00:16:44.832928Z",
     "iopub.status.idle": "2023-08-03T00:16:47.104451Z",
     "shell.execute_reply": "2023-08-03T00:16:47.103123Z"
    },
    "papermill": {
     "duration": 2.310964,
     "end_time": "2023-08-03T00:16:47.107166",
     "exception": false,
     "start_time": "2023-08-03T00:16:44.796202",
     "status": "completed"
    },
    "tags": []
   },
   "outputs": [],
   "source": [
    "# Plotando o gráfico de barras\n",
    "plt.figure(figsize=(16, 6))\n",
    "sns.barplot(x=df_gols_por_minuto['Minuto'], y=df_gols_por_minuto['Gols'], alpha=0.7, palette='viridis')\n",
    "plt.xlabel('Minuto do Gol')\n",
    "plt.ylabel('Número de Gols')\n",
    "plt.title('Número de Gols em Cada Minuto', fontsize=18)\n",
    "plt.grid(axis='y', linestyle='--', alpha=1, linewidth=1.6)\n",
    "\n",
    "# Rotacionando os rótulos do eixo x para melhor visualização\n",
    "plt.xticks(rotation=90, ha='center', va='center', fontsize=11)\n",
    "\n",
    "plt.tight_layout()  \n",
    "plt.show()"
   ]
  },
  {
   "cell_type": "markdown",
   "id": "a5bcf68e",
   "metadata": {
    "papermill": {
     "duration": 0.037976,
     "end_time": "2023-08-03T00:16:47.181451",
     "exception": false,
     "start_time": "2023-08-03T00:16:47.143475",
     "status": "completed"
    },
    "tags": []
   },
   "source": [
    "### 6 - Quais foram os 10 maiores artilheiros desde 2014?"
   ]
  },
  {
   "cell_type": "code",
   "execution_count": null,
   "id": "ba9798c8",
   "metadata": {
    "execution": {
     "iopub.execute_input": "2023-08-03T00:16:47.254645Z",
     "iopub.status.busy": "2023-08-03T00:16:47.254263Z",
     "iopub.status.idle": "2023-08-03T00:16:47.261349Z",
     "shell.execute_reply": "2023-08-03T00:16:47.260532Z"
    },
    "papermill": {
     "duration": 0.046643,
     "end_time": "2023-08-03T00:16:47.263704",
     "exception": false,
     "start_time": "2023-08-03T00:16:47.217061",
     "status": "completed"
    },
    "tags": []
   },
   "outputs": [],
   "source": [
    "# Calculando os 10 maiores artilheiros desde 2014\n",
    "top_artilheiros = df_gols['atleta'].value_counts()[:10]"
   ]
  },
  {
   "cell_type": "code",
   "execution_count": null,
   "id": "b7f21cda",
   "metadata": {
    "execution": {
     "iopub.execute_input": "2023-08-03T00:16:47.339620Z",
     "iopub.status.busy": "2023-08-03T00:16:47.338673Z",
     "iopub.status.idle": "2023-08-03T00:16:47.916021Z",
     "shell.execute_reply": "2023-08-03T00:16:47.915197Z"
    },
    "papermill": {
     "duration": 0.617378,
     "end_time": "2023-08-03T00:16:47.918564",
     "exception": false,
     "start_time": "2023-08-03T00:16:47.301186",
     "status": "completed"
    },
    "tags": []
   },
   "outputs": [],
   "source": [
    "# Plotando o gráfico de barras\n",
    "plt.figure(figsize=(12, 6))\n",
    "sns.barplot(x=top_artilheiros.index, y=top_artilheiros.values, alpha=0.8, palette='magma') \n",
    "plt.xlabel('Jogador', fontsize=13) \n",
    "plt.ylabel('Número de Gols', fontsize=13) \n",
    "plt.title('10 Maiores Artilheiros Desde 2014', fontsize=16)\n",
    "plt.xticks(rotation=45, ha='center', fontsize=11)\n",
    "plt.gca().spines['right'].set_visible(False) # Removendo borda direita\n",
    "plt.gca().spines['top'].set_visible(False) # Removendo borda superior\n",
    "\n",
    "# Adicionando anotações com os valores de cada barra\n",
    "for i, value in enumerate(top_artilheiros.values):\n",
    "    plt.text(i, value, str(value), ha='center', va='bottom', fontsize=11, weight='bold', color='black')\n",
    "\n",
    "plt.tight_layout()\n",
    "plt.show()"
   ]
  },
  {
   "cell_type": "markdown",
   "id": "d9a95d8b",
   "metadata": {
    "papermill": {
     "duration": 0.037008,
     "end_time": "2023-08-03T00:16:47.993438",
     "exception": false,
     "start_time": "2023-08-03T00:16:47.956430",
     "status": "completed"
    },
    "tags": []
   },
   "source": [
    "### 7 - Quais foram os 5 jogadores que mais receberam amarelo e os 5 jogadores que mais vermelho desde 2014?"
   ]
  },
  {
   "cell_type": "code",
   "execution_count": null,
   "id": "a95e29fa",
   "metadata": {
    "execution": {
     "iopub.execute_input": "2023-08-03T00:16:48.070714Z",
     "iopub.status.busy": "2023-08-03T00:16:48.070139Z",
     "iopub.status.idle": "2023-08-03T00:16:48.099418Z",
     "shell.execute_reply": "2023-08-03T00:16:48.098374Z"
    },
    "papermill": {
     "duration": 0.070456,
     "end_time": "2023-08-03T00:16:48.101750",
     "exception": false,
     "start_time": "2023-08-03T00:16:48.031294",
     "status": "completed"
    },
    "tags": []
   },
   "outputs": [],
   "source": [
    "# Filtrando os cartões amarelos\n",
    "cartoes_amarelos = df_cartoes[df_cartoes['cartao'] == 'Amarelo']\n",
    "\n",
    "# Filtrando os cartões vermelhos\n",
    "cartoes_vermelhos = df_cartoes[df_cartoes['cartao'] == 'Vermelho']\n",
    "\n",
    "# Agrupando por jogador e contando a quantidade de cartões amarelos e vermelhos recebidos por cada jogador\n",
    "jogadores_amarelos = cartoes_amarelos.groupby('atleta')['cartao'].count().reset_index()\n",
    "jogadores_vermelhos = cartoes_vermelhos.groupby('atleta')['cartao'].count().reset_index()\n",
    "\n",
    "# Renomeando a coluna de contagem para \"cartoes_amarelos\" e \"cartoes_vermelhos\" para os respectivos DataFrames\n",
    "jogadores_amarelos.rename(columns={'cartao': 'cartoes_amarelos'}, inplace=True)\n",
    "jogadores_vermelhos.rename(columns={'cartao': 'cartoes_vermelhos'}, inplace=True)\n",
    "\n",
    "# Ordenando em ordem decrescente e obtendo os 5 jogadores com mais cartões amarelos e vermelhos\n",
    "top_5_amarelos = jogadores_amarelos.sort_values(by='cartoes_amarelos', ascending=False)[:5]\n",
    "top_5_vermelhos = jogadores_vermelhos.sort_values(by='cartoes_vermelhos', ascending=False)[:5]"
   ]
  },
  {
   "cell_type": "code",
   "execution_count": null,
   "id": "0a259342",
   "metadata": {
    "execution": {
     "iopub.execute_input": "2023-08-03T00:16:48.180090Z",
     "iopub.status.busy": "2023-08-03T00:16:48.179463Z",
     "iopub.status.idle": "2023-08-03T00:16:49.224454Z",
     "shell.execute_reply": "2023-08-03T00:16:49.223236Z"
    },
    "papermill": {
     "duration": 1.087678,
     "end_time": "2023-08-03T00:16:49.226894",
     "exception": false,
     "start_time": "2023-08-03T00:16:48.139216",
     "status": "completed"
    },
    "tags": []
   },
   "outputs": [],
   "source": [
    "# Criando o gráfico de barras para os cartões amarelos\n",
    "plt.figure(figsize=(12, 6))\n",
    "sns.barplot(x=top_5_amarelos['cartoes_amarelos'], y=top_5_amarelos['atleta'], color='yellow')\n",
    "plt.xlabel('Quantidade de Cartões Amarelos', fontsize=13)\n",
    "plt.ylabel('Jogadores', fontsize=13)\n",
    "plt.title('Top 5 Jogadores com Mais Cartões Amarelos', fontsize=15)\n",
    "plt.xticks(fontsize=12)  \n",
    "plt.yticks(fontsize=12)\n",
    "\n",
    "# Adicionando valores nas barras\n",
    "for index, value in enumerate(top_5_amarelos['cartoes_amarelos']):\n",
    "    plt.text(value, index, str(value), ha='left', va='center', fontsize=12, color='black')\n",
    "\n",
    "plt.tight_layout()\n",
    "plt.show()\n",
    "\n",
    "# Criando o gráfico de barras para os cartões vermelhos\n",
    "plt.figure(figsize=(12, 6))\n",
    "sns.barplot(x=top_5_vermelhos['cartoes_vermelhos'], y=top_5_vermelhos['atleta'], color='red')\n",
    "plt.xlabel('Quantidade de Cartões Vermelhos', fontsize=13)\n",
    "plt.ylabel('Jogadores', fontsize=13)\n",
    "plt.title('Top 5 Jogadores com Mais Cartões Vermelhos', fontsize=15)\n",
    "plt.xticks(fontsize=12)  \n",
    "plt.yticks(fontsize=12)\n",
    "\n",
    "# Adicionando valores nas barras\n",
    "for index, value in enumerate(top_5_vermelhos['cartoes_vermelhos']):\n",
    "    plt.text(value, index, str(value), ha='left', va='center', fontsize=12, color='black')\n",
    "\n",
    "plt.tight_layout()\n",
    "plt.show()"
   ]
  },
  {
   "cell_type": "markdown",
   "id": "a4c89ed9",
   "metadata": {
    "papermill": {
     "duration": 0.038617,
     "end_time": "2023-08-03T00:16:49.304622",
     "exception": false,
     "start_time": "2023-08-03T00:16:49.266005",
     "status": "completed"
    },
    "tags": []
   },
   "source": [
    "### 8 - Qual é o aproveitamento de um time de acordo com o número de chutes e posse de bola?"
   ]
  },
  {
   "cell_type": "code",
   "execution_count": null,
   "id": "425dfb7c",
   "metadata": {
    "execution": {
     "iopub.execute_input": "2023-08-03T00:16:49.384514Z",
     "iopub.status.busy": "2023-08-03T00:16:49.383868Z",
     "iopub.status.idle": "2023-08-03T00:16:49.413676Z",
     "shell.execute_reply": "2023-08-03T00:16:49.412770Z"
    },
    "papermill": {
     "duration": 0.072819,
     "end_time": "2023-08-03T00:16:49.416257",
     "exception": false,
     "start_time": "2023-08-03T00:16:49.343438",
     "status": "completed"
    },
    "tags": []
   },
   "outputs": [],
   "source": [
    "# Combinando os datasets usando o ID da partida como chave de junção\n",
    "df_combinados = pd.merge(df_full, df_est_full[['partida_id', 'chutes', 'posse_de_bola']], on='partida_id', how='inner')\n",
    "\n",
    "# Dataframe combinado possui jogos duplicados por causa da coluna chutes\n",
    "# Arrumando o dataframe\n",
    "df_duplicatas = df_combinados[df_combinados.duplicated(subset='partida_id', keep='first')]\n",
    "df_jogos_sem_duplicatas = df_combinados.drop_duplicates(subset='partida_id', keep='first')\n",
    "df_jogos = pd.merge(df_jogos_sem_duplicatas, df_duplicatas[['partida_id', 'chutes', 'posse_de_bola']], on='partida_id', how='inner')\n",
    "\n",
    "# Realizando slicing para obter apenas as informações necessárias\n",
    "df_chutes = df_jogos[['partida_id', 'mandante', 'visitante', 'vencedor', 'chutes_x', 'chutes_y']]\n",
    "df_posse_de_bola = df_jogos[['partida_id', 'mandante', 'visitante', 'vencedor', 'posse_de_bola_x', 'posse_de_bola_y']]\n",
    "\n",
    "# Renomeando colunas\n",
    "df_chutes = df_chutes.rename(columns={'chutes_x': 'chutes_mandante', 'chutes_y': 'chutes_visitante'})\n",
    "df_posse_de_bola = df_posse_de_bola.rename(columns={'posse_de_bola_x': 'posse_de_bola_mandante', \n",
    "                                                    'posse_de_bola_y': 'posse_de_bola_visitante'})"
   ]
  },
  {
   "cell_type": "code",
   "execution_count": null,
   "id": "02efea01",
   "metadata": {
    "execution": {
     "iopub.execute_input": "2023-08-03T00:16:49.495985Z",
     "iopub.status.busy": "2023-08-03T00:16:49.495354Z",
     "iopub.status.idle": "2023-08-03T00:16:53.131745Z",
     "shell.execute_reply": "2023-08-03T00:16:53.130854Z"
    },
    "papermill": {
     "duration": 3.67941,
     "end_time": "2023-08-03T00:16:53.134577",
     "exception": false,
     "start_time": "2023-08-03T00:16:49.455167",
     "status": "completed"
    },
    "tags": []
   },
   "outputs": [],
   "source": [
    "# Função para criar as linhas de resultado e chutes para cada partida\n",
    "def criar_df_chutes(row):\n",
    "    if row['vencedor'] == 'Empate':\n",
    "        linha_empate_1 = {'resultado': 'empate', 'chutes': row['chutes_mandante']}\n",
    "        linha_empate_2 = {'resultado': 'empate', 'chutes': row['chutes_visitante']}\n",
    "        return pd.DataFrame([linha_empate_1, linha_empate_2])\n",
    "    elif row['vencedor'] == row['mandante']:\n",
    "        linha_venceu = {'resultado': 'venceu', 'chutes': row['chutes_mandante']}\n",
    "        linha_perdeu = {'resultado': 'perdeu', 'chutes': row['chutes_visitante']}\n",
    "        return pd.DataFrame([linha_venceu, linha_perdeu])\n",
    "    elif row['vencedor'] == row['visitante']:\n",
    "        linha_venceu = {'resultado': 'venceu', 'chutes': row['chutes_visitante']}\n",
    "        linha_perdeu = {'resultado': 'perdeu', 'chutes': row['chutes_mandante']}\n",
    "        return pd.DataFrame([linha_venceu, linha_perdeu])\n",
    "\n",
    "# Função para criar as linhas de resultado e posse de bola para cada partida\n",
    "def criar_df_posse_de_bola(row):\n",
    "    if row['vencedor'] == 'Empate':\n",
    "        linha_empate_1 = {'resultado': 'empate', 'posse_de_bola': row['posse_de_bola_mandante']}\n",
    "        linha_empate_2 = {'resultado': 'empate', 'posse_de_bola': row['posse_de_bola_visitante']}\n",
    "        return pd.DataFrame([linha_empate_1, linha_empate_2])\n",
    "    elif row['vencedor'] == row['mandante']:\n",
    "        linha_venceu = {'resultado': 'venceu', 'posse_de_bola': row['posse_de_bola_mandante']}\n",
    "        linha_perdeu = {'resultado': 'perdeu', 'posse_de_bola': row['posse_de_bola_visitante']}\n",
    "        return pd.DataFrame([linha_venceu, linha_perdeu])\n",
    "    elif row['vencedor'] == row['visitante']:\n",
    "        linha_venceu = {'resultado': 'venceu', 'posse_de_bola': row['posse_de_bola_visitante']}\n",
    "        linha_perdeu = {'resultado': 'perdeu', 'posse_de_bola': row['posse_de_bola_mandante']}\n",
    "        return pd.DataFrame([linha_venceu, linha_perdeu])\n",
    "\n",
    "# Aplicando a função para cada linha do dataframe original e concatenando os resultados\n",
    "df_chutes = pd.concat(df_chutes.apply(criar_df_chutes, axis=1).to_list(), ignore_index=True)\n",
    "df_posse_de_bola = pd.concat(df_posse_de_bola.apply(criar_df_posse_de_bola, axis=1).to_list(), ignore_index=True)"
   ]
  },
  {
   "cell_type": "code",
   "execution_count": null,
   "id": "6cf3a259",
   "metadata": {
    "execution": {
     "iopub.execute_input": "2023-08-03T00:16:53.216652Z",
     "iopub.status.busy": "2023-08-03T00:16:53.215715Z",
     "iopub.status.idle": "2023-08-03T00:16:53.238957Z",
     "shell.execute_reply": "2023-08-03T00:16:53.237938Z"
    },
    "papermill": {
     "duration": 0.067264,
     "end_time": "2023-08-03T00:16:53.241477",
     "exception": false,
     "start_time": "2023-08-03T00:16:53.174213",
     "status": "completed"
    },
    "tags": []
   },
   "outputs": [],
   "source": [
    "def calcular_aproveitamento(row):\n",
    "    resultado_str = row['resultado']\n",
    "    \n",
    "    # Contagem das ocorrências de cada resultado na string\n",
    "    venceu_count = resultado_str.count('venceu')\n",
    "    empate_count = resultado_str.count('empate')\n",
    "    perdeu_count = resultado_str.count('perdeu')\n",
    "    \n",
    "    # Cálculo do aproveitamento\n",
    "    total_partidas = venceu_count + empate_count + perdeu_count\n",
    "    aproveitamento = ((venceu_count * 3 + empate_count) / (total_partidas * 3)) * 100\n",
    "\n",
    "    return round(aproveitamento, 2)\n",
    "\n",
    "# Agrupando os dados pelo número de chutes \n",
    "df_chutes = df_chutes.groupby('chutes').sum().reset_index()\n",
    "\n",
    "# Agrupando os dados pelo número de posse de bola\n",
    "df_posse_de_bola = df_posse_de_bola.groupby('posse_de_bola').sum().reset_index()\n",
    "\n",
    "# Aplicando a função 'calcular_aproveitamento' a cada linha do dataframe.\n",
    "df_chutes['aproveitamento'] = df_chutes.apply(calcular_aproveitamento, axis=1)\n",
    "df_posse_de_bola['aproveitamento'] = df_posse_de_bola.apply(calcular_aproveitamento, axis=1)\n"
   ]
  },
  {
   "cell_type": "code",
   "execution_count": null,
   "id": "151a549e",
   "metadata": {
    "execution": {
     "iopub.execute_input": "2023-08-03T00:16:53.322701Z",
     "iopub.status.busy": "2023-08-03T00:16:53.322327Z",
     "iopub.status.idle": "2023-08-03T00:16:54.378495Z",
     "shell.execute_reply": "2023-08-03T00:16:54.377321Z"
    },
    "papermill": {
     "duration": 1.100051,
     "end_time": "2023-08-03T00:16:54.380720",
     "exception": false,
     "start_time": "2023-08-03T00:16:53.280669",
     "status": "completed"
    },
    "tags": []
   },
   "outputs": [],
   "source": [
    "# Criando o gráfico de chutes\n",
    "plt.figure(figsize=(12, 6))  \n",
    "sns.lineplot(x=df_chutes['chutes'], y=df_chutes['aproveitamento'], marker='o', linewidth=2, color='white')\n",
    "\n",
    "# Configurando cores e estilo do gráfico\n",
    "plt.gca().set_facecolor('#0000FF')\n",
    "plt.grid(color = '#FFFFE0', linestyle = '--', linewidth = 0.6)\n",
    "\n",
    "# Configurando título e rótulos dos eixos\n",
    "plt.title('Aproveitamento de um time de acordo com o número de chutes', fontsize=16)\n",
    "plt.xlabel('Número de chutes', fontsize=14)\n",
    "plt.ylabel('Aproveitamento (%)', fontsize=14)\n",
    "\n",
    "# Definir os ticks do eixo y para serem exibidos em intervalos de 10 em 10\n",
    "plt.yticks(range(0, 101, 10))\n",
    "\n",
    "# Exibindo grades no gráfico\n",
    "plt.grid(True)\n",
    "\n",
    "plt.tight_layout()\n",
    "plt.show()\n",
    "\n",
    "# Criando o gráfico de posse de bola\n",
    "plt.figure(figsize=(12, 6))  \n",
    "sns.lineplot(x=df_posse_de_bola['posse_de_bola'], y=df_posse_de_bola['aproveitamento'], \n",
    "             marker='o', linewidth=2, color='white')\n",
    "\n",
    "# Configurando cores e estilo do gráfico\n",
    "plt.gca().set_facecolor('#0000FF')\n",
    "plt.grid(color = '#FFFFE0', linestyle = '--', linewidth = 0.6)\n",
    "\n",
    "# Configurando título e rótulos dos eixos\n",
    "plt.title('Aproveitamento de um time de acordo com a posse de bola', fontsize=16)\n",
    "plt.xlabel('Posse de bola (%)', fontsize=14)\n",
    "plt.ylabel('Aproveitamento (%)', fontsize=14)\n",
    "\n",
    "# Definir os ticks do eixo y para serem exibidos em intervalos de 10 em 10\n",
    "plt.yticks(range(0, 101, 10))\n",
    "\n",
    "# Exibindo grades no gráfico\n",
    "plt.grid(True)\n",
    "\n",
    "plt.tight_layout()\n",
    "plt.show()"
   ]
  }
 ],
 "metadata": {
  "kernelspec": {
   "display_name": "Python 3 (ipykernel)",
   "language": "python",
   "name": "python3"
  },
  "language_info": {
   "codemirror_mode": {
    "name": "ipython",
    "version": 3
   },
   "file_extension": ".py",
   "mimetype": "text/x-python",
   "name": "python",
   "nbconvert_exporter": "python",
   "pygments_lexer": "ipython3",
   "version": "3.11.5"
  },
  "papermill": {
   "default_parameters": {},
   "duration": 30.710164,
   "end_time": "2023-08-03T00:16:55.343917",
   "environment_variables": {},
   "exception": null,
   "input_path": "__notebook__.ipynb",
   "output_path": "__notebook__.ipynb",
   "parameters": {},
   "start_time": "2023-08-03T00:16:24.633753",
   "version": "2.4.0"
  }
 },
 "nbformat": 4,
 "nbformat_minor": 5
}
