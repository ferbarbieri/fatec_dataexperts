{
 "cells": [
  {
   "cell_type": "code",
   "execution_count": 1,
   "id": "8f0dcf67",
   "metadata": {
    "_cell_guid": "b1076dfc-b9ad-4769-8c92-a6c4dae69d19",
    "_uuid": "8f2839f25d086af736a60e9eeb907d3b93b6e0e5",
    "execution": {
     "iopub.execute_input": "2023-10-10T01:52:35.359137Z",
     "iopub.status.busy": "2023-10-10T01:52:35.357783Z",
     "iopub.status.idle": "2023-10-10T01:52:37.359436Z",
     "shell.execute_reply": "2023-10-10T01:52:37.357631Z"
    },
    "papermill": {
     "duration": 2.013114,
     "end_time": "2023-10-10T01:52:37.362342",
     "exception": false,
     "start_time": "2023-10-10T01:52:35.349228",
     "status": "completed"
    },
    "tags": []
   },
   "outputs": [],
   "source": [
    "import numpy as np \n",
    "import pandas as pd \n",
    "import matplotlib.pyplot as plt\n",
    "import seaborn as sns\n",
    "from scipy.stats import poisson\n",
    "import itertools\n"
   ]
  },
  {
   "cell_type": "code",
   "execution_count": 2,
   "id": "66a80f8e",
   "metadata": {
    "execution": {
     "iopub.execute_input": "2023-10-10T01:52:37.375679Z",
     "iopub.status.busy": "2023-10-10T01:52:37.374537Z",
     "iopub.status.idle": "2023-10-10T01:52:37.379984Z",
     "shell.execute_reply": "2023-10-10T01:52:37.378845Z"
    },
    "papermill": {
     "duration": 0.013815,
     "end_time": "2023-10-10T01:52:37.382058",
     "exception": false,
     "start_time": "2023-10-10T01:52:37.368243",
     "status": "completed"
    },
    "tags": []
   },
   "outputs": [],
   "source": [
    "filepath = ('datasets/campeonato-brasileiro.csv')"
   ]
  },
  {
   "cell_type": "code",
   "execution_count": 3,
   "id": "a34120b9",
   "metadata": {
    "execution": {
     "iopub.execute_input": "2023-10-10T01:52:37.394034Z",
     "iopub.status.busy": "2023-10-10T01:52:37.392757Z",
     "iopub.status.idle": "2023-10-10T01:52:37.448381Z",
     "shell.execute_reply": "2023-10-10T01:52:37.447174Z"
    },
    "papermill": {
     "duration": 0.064198,
     "end_time": "2023-10-10T01:52:37.451025",
     "exception": false,
     "start_time": "2023-10-10T01:52:37.386827",
     "status": "completed"
    },
    "tags": []
   },
   "outputs": [],
   "source": [
    "df = pd.read_csv(filepath)"
   ]
  },
  {
   "cell_type": "code",
   "execution_count": 4,
   "id": "7422d110",
   "metadata": {
    "execution": {
     "iopub.execute_input": "2023-10-10T01:52:37.462767Z",
     "iopub.status.busy": "2023-10-10T01:52:37.461631Z",
     "iopub.status.idle": "2023-10-10T01:52:37.488750Z",
     "shell.execute_reply": "2023-10-10T01:52:37.487703Z"
    },
    "papermill": {
     "duration": 0.03506,
     "end_time": "2023-10-10T01:52:37.491091",
     "exception": false,
     "start_time": "2023-10-10T01:52:37.456031",
     "status": "completed"
    },
    "tags": []
   },
   "outputs": [
    {
     "data": {
      "text/html": [
       "<div>\n",
       "<style scoped>\n",
       "    .dataframe tbody tr th:only-of-type {\n",
       "        vertical-align: middle;\n",
       "    }\n",
       "\n",
       "    .dataframe tbody tr th {\n",
       "        vertical-align: top;\n",
       "    }\n",
       "\n",
       "    .dataframe thead th {\n",
       "        text-align: right;\n",
       "    }\n",
       "</style>\n",
       "<table border=\"1\" class=\"dataframe\">\n",
       "  <thead>\n",
       "    <tr style=\"text-align: right;\">\n",
       "      <th></th>\n",
       "      <th>ID</th>\n",
       "      <th>rodata</th>\n",
       "      <th>data</th>\n",
       "      <th>hora</th>\n",
       "      <th>mandante</th>\n",
       "      <th>visitante</th>\n",
       "      <th>formacao_mandante</th>\n",
       "      <th>formacao_visitante</th>\n",
       "      <th>tecnico_mandante</th>\n",
       "      <th>tecnico_visitante</th>\n",
       "      <th>vencedor</th>\n",
       "      <th>arena</th>\n",
       "      <th>mandante_Placar</th>\n",
       "      <th>visitante_Placar</th>\n",
       "      <th>mandante_Estado</th>\n",
       "      <th>visitante_Estado</th>\n",
       "    </tr>\n",
       "  </thead>\n",
       "  <tbody>\n",
       "    <tr>\n",
       "      <th>0</th>\n",
       "      <td>1</td>\n",
       "      <td>1</td>\n",
       "      <td>29/03/2003</td>\n",
       "      <td>16:00</td>\n",
       "      <td>Guarani</td>\n",
       "      <td>Vasco</td>\n",
       "      <td>NaN</td>\n",
       "      <td>NaN</td>\n",
       "      <td>NaN</td>\n",
       "      <td>NaN</td>\n",
       "      <td>Guarani</td>\n",
       "      <td>Brinco de Ouro</td>\n",
       "      <td>4</td>\n",
       "      <td>2</td>\n",
       "      <td>SP</td>\n",
       "      <td>RJ</td>\n",
       "    </tr>\n",
       "    <tr>\n",
       "      <th>1</th>\n",
       "      <td>2</td>\n",
       "      <td>1</td>\n",
       "      <td>29/03/2003</td>\n",
       "      <td>16:00</td>\n",
       "      <td>Athletico-PR</td>\n",
       "      <td>Gremio</td>\n",
       "      <td>NaN</td>\n",
       "      <td>NaN</td>\n",
       "      <td>NaN</td>\n",
       "      <td>NaN</td>\n",
       "      <td>Athletico-PR</td>\n",
       "      <td>Arena da Baixada</td>\n",
       "      <td>2</td>\n",
       "      <td>0</td>\n",
       "      <td>PR</td>\n",
       "      <td>RS</td>\n",
       "    </tr>\n",
       "    <tr>\n",
       "      <th>2</th>\n",
       "      <td>3</td>\n",
       "      <td>1</td>\n",
       "      <td>30/03/2003</td>\n",
       "      <td>16:00</td>\n",
       "      <td>Flamengo</td>\n",
       "      <td>Coritiba</td>\n",
       "      <td>NaN</td>\n",
       "      <td>NaN</td>\n",
       "      <td>NaN</td>\n",
       "      <td>NaN</td>\n",
       "      <td>-</td>\n",
       "      <td>Maracanã</td>\n",
       "      <td>1</td>\n",
       "      <td>1</td>\n",
       "      <td>RJ</td>\n",
       "      <td>PR</td>\n",
       "    </tr>\n",
       "    <tr>\n",
       "      <th>3</th>\n",
       "      <td>4</td>\n",
       "      <td>1</td>\n",
       "      <td>30/03/2003</td>\n",
       "      <td>16:00</td>\n",
       "      <td>Goias</td>\n",
       "      <td>Paysandu</td>\n",
       "      <td>NaN</td>\n",
       "      <td>NaN</td>\n",
       "      <td>NaN</td>\n",
       "      <td>NaN</td>\n",
       "      <td>-</td>\n",
       "      <td>Serra Dourada</td>\n",
       "      <td>2</td>\n",
       "      <td>2</td>\n",
       "      <td>GO</td>\n",
       "      <td>PA</td>\n",
       "    </tr>\n",
       "    <tr>\n",
       "      <th>4</th>\n",
       "      <td>5</td>\n",
       "      <td>1</td>\n",
       "      <td>30/03/2003</td>\n",
       "      <td>16:00</td>\n",
       "      <td>Internacional</td>\n",
       "      <td>Ponte Preta</td>\n",
       "      <td>NaN</td>\n",
       "      <td>NaN</td>\n",
       "      <td>NaN</td>\n",
       "      <td>NaN</td>\n",
       "      <td>-</td>\n",
       "      <td>Beira Rio</td>\n",
       "      <td>1</td>\n",
       "      <td>1</td>\n",
       "      <td>RS</td>\n",
       "      <td>SP</td>\n",
       "    </tr>\n",
       "  </tbody>\n",
       "</table>\n",
       "</div>"
      ],
      "text/plain": [
       "   ID  rodata        data   hora       mandante    visitante  \\\n",
       "0   1       1  29/03/2003  16:00        Guarani        Vasco   \n",
       "1   2       1  29/03/2003  16:00   Athletico-PR       Gremio   \n",
       "2   3       1  30/03/2003  16:00       Flamengo     Coritiba   \n",
       "3   4       1  30/03/2003  16:00          Goias     Paysandu   \n",
       "4   5       1  30/03/2003  16:00  Internacional  Ponte Preta   \n",
       "\n",
       "  formacao_mandante formacao_visitante tecnico_mandante tecnico_visitante  \\\n",
       "0               NaN                NaN              NaN               NaN   \n",
       "1               NaN                NaN              NaN               NaN   \n",
       "2               NaN                NaN              NaN               NaN   \n",
       "3               NaN                NaN              NaN               NaN   \n",
       "4               NaN                NaN              NaN               NaN   \n",
       "\n",
       "       vencedor              arena  mandante_Placar  visitante_Placar  \\\n",
       "0       Guarani     Brinco de Ouro                4                 2   \n",
       "1  Athletico-PR   Arena da Baixada                2                 0   \n",
       "2             -           Maracanã                1                 1   \n",
       "3             -      Serra Dourada                2                 2   \n",
       "4             -          Beira Rio                1                 1   \n",
       "\n",
       "  mandante_Estado visitante_Estado  \n",
       "0              SP               RJ  \n",
       "1              PR               RS  \n",
       "2              RJ               PR  \n",
       "3              GO               PA  \n",
       "4              RS               SP  "
      ]
     },
     "execution_count": 4,
     "metadata": {},
     "output_type": "execute_result"
    }
   ],
   "source": [
    "df.head()"
   ]
  },
  {
   "cell_type": "code",
   "execution_count": 5,
   "id": "edecf88f",
   "metadata": {
    "execution": {
     "iopub.execute_input": "2023-10-10T01:52:37.503094Z",
     "iopub.status.busy": "2023-10-10T01:52:37.502054Z",
     "iopub.status.idle": "2023-10-10T01:52:37.510488Z",
     "shell.execute_reply": "2023-10-10T01:52:37.509324Z"
    },
    "papermill": {
     "duration": 0.016534,
     "end_time": "2023-10-10T01:52:37.512491",
     "exception": false,
     "start_time": "2023-10-10T01:52:37.495957",
     "status": "completed"
    },
    "tags": []
   },
   "outputs": [
    {
     "data": {
      "text/plain": [
       "ID                     int64\n",
       "rodata                 int64\n",
       "data                  object\n",
       "hora                  object\n",
       "mandante              object\n",
       "visitante             object\n",
       "formacao_mandante     object\n",
       "formacao_visitante    object\n",
       "tecnico_mandante      object\n",
       "tecnico_visitante     object\n",
       "vencedor              object\n",
       "arena                 object\n",
       "mandante_Placar        int64\n",
       "visitante_Placar       int64\n",
       "mandante_Estado       object\n",
       "visitante_Estado      object\n",
       "dtype: object"
      ]
     },
     "execution_count": 5,
     "metadata": {},
     "output_type": "execute_result"
    }
   ],
   "source": [
    "df.dtypes"
   ]
  },
  {
   "cell_type": "markdown",
   "id": "fd8763fd",
   "metadata": {
    "papermill": {
     "duration": 0.004674,
     "end_time": "2023-10-10T01:52:37.522344",
     "exception": false,
     "start_time": "2023-10-10T01:52:37.517670",
     "status": "completed"
    },
    "tags": []
   },
   "source": [
    "**Limpando colunas que não serão utilizadas**"
   ]
  },
  {
   "cell_type": "code",
   "execution_count": 6,
   "id": "c6054db7",
   "metadata": {
    "execution": {
     "iopub.execute_input": "2023-10-10T01:52:37.534250Z",
     "iopub.status.busy": "2023-10-10T01:52:37.533518Z",
     "iopub.status.idle": "2023-10-10T01:52:37.549410Z",
     "shell.execute_reply": "2023-10-10T01:52:37.548464Z"
    },
    "papermill": {
     "duration": 0.024634,
     "end_time": "2023-10-10T01:52:37.551866",
     "exception": false,
     "start_time": "2023-10-10T01:52:37.527232",
     "status": "completed"
    },
    "tags": []
   },
   "outputs": [],
   "source": [
    "df.drop(['ID','rodata','data','hora','formacao_mandante','formacao_visitante', 'tecnico_mandante', 'tecnico_visitante','mandante_Estado','visitante_Estado','arena'], axis = 1, inplace=True)\n"
   ]
  },
  {
   "cell_type": "code",
   "execution_count": 7,
   "id": "1852d1a5",
   "metadata": {
    "execution": {
     "iopub.execute_input": "2023-10-10T01:52:37.564512Z",
     "iopub.status.busy": "2023-10-10T01:52:37.563969Z",
     "iopub.status.idle": "2023-10-10T01:52:37.571433Z",
     "shell.execute_reply": "2023-10-10T01:52:37.570703Z"
    },
    "papermill": {
     "duration": 0.015787,
     "end_time": "2023-10-10T01:52:37.573222",
     "exception": false,
     "start_time": "2023-10-10T01:52:37.557435",
     "status": "completed"
    },
    "tags": []
   },
   "outputs": [
    {
     "data": {
      "text/plain": [
       "mandante            0\n",
       "visitante           0\n",
       "vencedor            0\n",
       "mandante_Placar     0\n",
       "visitante_Placar    0\n",
       "dtype: int64"
      ]
     },
     "execution_count": 7,
     "metadata": {},
     "output_type": "execute_result"
    }
   ],
   "source": [
    "df.isnull().sum()"
   ]
  },
  {
   "cell_type": "code",
   "execution_count": 8,
   "id": "28eabcd9",
   "metadata": {
    "execution": {
     "iopub.execute_input": "2023-10-10T01:52:37.585133Z",
     "iopub.status.busy": "2023-10-10T01:52:37.584601Z",
     "iopub.status.idle": "2023-10-10T01:52:37.594072Z",
     "shell.execute_reply": "2023-10-10T01:52:37.593103Z"
    },
    "papermill": {
     "duration": 0.017619,
     "end_time": "2023-10-10T01:52:37.596048",
     "exception": false,
     "start_time": "2023-10-10T01:52:37.578429",
     "status": "completed"
    },
    "tags": []
   },
   "outputs": [
    {
     "data": {
      "text/html": [
       "<div>\n",
       "<style scoped>\n",
       "    .dataframe tbody tr th:only-of-type {\n",
       "        vertical-align: middle;\n",
       "    }\n",
       "\n",
       "    .dataframe tbody tr th {\n",
       "        vertical-align: top;\n",
       "    }\n",
       "\n",
       "    .dataframe thead th {\n",
       "        text-align: right;\n",
       "    }\n",
       "</style>\n",
       "<table border=\"1\" class=\"dataframe\">\n",
       "  <thead>\n",
       "    <tr style=\"text-align: right;\">\n",
       "      <th></th>\n",
       "      <th>mandante</th>\n",
       "      <th>visitante</th>\n",
       "      <th>vencedor</th>\n",
       "      <th>mandante_Placar</th>\n",
       "      <th>visitante_Placar</th>\n",
       "    </tr>\n",
       "  </thead>\n",
       "  <tbody>\n",
       "    <tr>\n",
       "      <th>0</th>\n",
       "      <td>Guarani</td>\n",
       "      <td>Vasco</td>\n",
       "      <td>Guarani</td>\n",
       "      <td>4</td>\n",
       "      <td>2</td>\n",
       "    </tr>\n",
       "    <tr>\n",
       "      <th>1</th>\n",
       "      <td>Athletico-PR</td>\n",
       "      <td>Gremio</td>\n",
       "      <td>Athletico-PR</td>\n",
       "      <td>2</td>\n",
       "      <td>0</td>\n",
       "    </tr>\n",
       "    <tr>\n",
       "      <th>2</th>\n",
       "      <td>Flamengo</td>\n",
       "      <td>Coritiba</td>\n",
       "      <td>-</td>\n",
       "      <td>1</td>\n",
       "      <td>1</td>\n",
       "    </tr>\n",
       "    <tr>\n",
       "      <th>3</th>\n",
       "      <td>Goias</td>\n",
       "      <td>Paysandu</td>\n",
       "      <td>-</td>\n",
       "      <td>2</td>\n",
       "      <td>2</td>\n",
       "    </tr>\n",
       "    <tr>\n",
       "      <th>4</th>\n",
       "      <td>Internacional</td>\n",
       "      <td>Ponte Preta</td>\n",
       "      <td>-</td>\n",
       "      <td>1</td>\n",
       "      <td>1</td>\n",
       "    </tr>\n",
       "  </tbody>\n",
       "</table>\n",
       "</div>"
      ],
      "text/plain": [
       "        mandante    visitante      vencedor  mandante_Placar  visitante_Placar\n",
       "0        Guarani        Vasco       Guarani                4                 2\n",
       "1   Athletico-PR       Gremio  Athletico-PR                2                 0\n",
       "2       Flamengo     Coritiba             -                1                 1\n",
       "3          Goias     Paysandu             -                2                 2\n",
       "4  Internacional  Ponte Preta             -                1                 1"
      ]
     },
     "execution_count": 8,
     "metadata": {},
     "output_type": "execute_result"
    }
   ],
   "source": [
    "df.head()"
   ]
  },
  {
   "cell_type": "markdown",
   "id": "cb5b26ea",
   "metadata": {
    "papermill": {
     "duration": 0.004952,
     "end_time": "2023-10-10T01:52:37.606387",
     "exception": false,
     "start_time": "2023-10-10T01:52:37.601435",
     "status": "completed"
    },
    "tags": []
   },
   "source": [
    "**Treinando modelos**"
   ]
  },
  {
   "cell_type": "code",
   "execution_count": 9,
   "id": "a857ebe9",
   "metadata": {
    "execution": {
     "iopub.execute_input": "2023-10-10T01:52:37.618833Z",
     "iopub.status.busy": "2023-10-10T01:52:37.618459Z",
     "iopub.status.idle": "2023-10-10T01:52:37.625253Z",
     "shell.execute_reply": "2023-10-10T01:52:37.624024Z"
    },
    "papermill": {
     "duration": 0.015664,
     "end_time": "2023-10-10T01:52:37.627112",
     "exception": false,
     "start_time": "2023-10-10T01:52:37.611448",
     "status": "completed"
    },
    "tags": []
   },
   "outputs": [],
   "source": [
    "df_mandante = df[['mandante','mandante_Placar','visitante_Placar']]\n",
    "df_visitante = df[['visitante','mandante_Placar','visitante_Placar']]"
   ]
  },
  {
   "cell_type": "code",
   "execution_count": 10,
   "id": "f9becd42",
   "metadata": {
    "execution": {
     "iopub.execute_input": "2023-10-10T01:52:37.639680Z",
     "iopub.status.busy": "2023-10-10T01:52:37.638984Z",
     "iopub.status.idle": "2023-10-10T01:52:37.647203Z",
     "shell.execute_reply": "2023-10-10T01:52:37.646507Z"
    },
    "papermill": {
     "duration": 0.016657,
     "end_time": "2023-10-10T01:52:37.649083",
     "exception": false,
     "start_time": "2023-10-10T01:52:37.632426",
     "status": "completed"
    },
    "tags": []
   },
   "outputs": [
    {
     "data": {
      "text/html": [
       "<div>\n",
       "<style scoped>\n",
       "    .dataframe tbody tr th:only-of-type {\n",
       "        vertical-align: middle;\n",
       "    }\n",
       "\n",
       "    .dataframe tbody tr th {\n",
       "        vertical-align: top;\n",
       "    }\n",
       "\n",
       "    .dataframe thead th {\n",
       "        text-align: right;\n",
       "    }\n",
       "</style>\n",
       "<table border=\"1\" class=\"dataframe\">\n",
       "  <thead>\n",
       "    <tr style=\"text-align: right;\">\n",
       "      <th></th>\n",
       "      <th>mandante</th>\n",
       "      <th>mandante_Placar</th>\n",
       "      <th>visitante_Placar</th>\n",
       "    </tr>\n",
       "  </thead>\n",
       "  <tbody>\n",
       "    <tr>\n",
       "      <th>0</th>\n",
       "      <td>Guarani</td>\n",
       "      <td>4</td>\n",
       "      <td>2</td>\n",
       "    </tr>\n",
       "    <tr>\n",
       "      <th>1</th>\n",
       "      <td>Athletico-PR</td>\n",
       "      <td>2</td>\n",
       "      <td>0</td>\n",
       "    </tr>\n",
       "    <tr>\n",
       "      <th>2</th>\n",
       "      <td>Flamengo</td>\n",
       "      <td>1</td>\n",
       "      <td>1</td>\n",
       "    </tr>\n",
       "    <tr>\n",
       "      <th>3</th>\n",
       "      <td>Goias</td>\n",
       "      <td>2</td>\n",
       "      <td>2</td>\n",
       "    </tr>\n",
       "    <tr>\n",
       "      <th>4</th>\n",
       "      <td>Internacional</td>\n",
       "      <td>1</td>\n",
       "      <td>1</td>\n",
       "    </tr>\n",
       "  </tbody>\n",
       "</table>\n",
       "</div>"
      ],
      "text/plain": [
       "        mandante  mandante_Placar  visitante_Placar\n",
       "0        Guarani                4                 2\n",
       "1   Athletico-PR                2                 0\n",
       "2       Flamengo                1                 1\n",
       "3          Goias                2                 2\n",
       "4  Internacional                1                 1"
      ]
     },
     "execution_count": 10,
     "metadata": {},
     "output_type": "execute_result"
    }
   ],
   "source": [
    "df_mandante.head()"
   ]
  },
  {
   "cell_type": "code",
   "execution_count": 11,
   "id": "fbefbcf7",
   "metadata": {
    "execution": {
     "iopub.execute_input": "2023-10-10T01:52:37.662418Z",
     "iopub.status.busy": "2023-10-10T01:52:37.661665Z",
     "iopub.status.idle": "2023-10-10T01:52:37.676641Z",
     "shell.execute_reply": "2023-10-10T01:52:37.675351Z"
    },
    "papermill": {
     "duration": 0.024314,
     "end_time": "2023-10-10T01:52:37.678964",
     "exception": false,
     "start_time": "2023-10-10T01:52:37.654650",
     "status": "completed"
    },
    "tags": []
   },
   "outputs": [
    {
     "data": {
      "text/html": [
       "<div>\n",
       "<style scoped>\n",
       "    .dataframe tbody tr th:only-of-type {\n",
       "        vertical-align: middle;\n",
       "    }\n",
       "\n",
       "    .dataframe tbody tr th {\n",
       "        vertical-align: top;\n",
       "    }\n",
       "\n",
       "    .dataframe thead th {\n",
       "        text-align: right;\n",
       "    }\n",
       "</style>\n",
       "<table border=\"1\" class=\"dataframe\">\n",
       "  <thead>\n",
       "    <tr style=\"text-align: right;\">\n",
       "      <th></th>\n",
       "      <th>Time</th>\n",
       "      <th>GolsTomados</th>\n",
       "      <th>GolsFeitos</th>\n",
       "    </tr>\n",
       "  </thead>\n",
       "  <tbody>\n",
       "    <tr>\n",
       "      <th>0</th>\n",
       "      <td>Vasco</td>\n",
       "      <td>4</td>\n",
       "      <td>2</td>\n",
       "    </tr>\n",
       "    <tr>\n",
       "      <th>1</th>\n",
       "      <td>Gremio</td>\n",
       "      <td>2</td>\n",
       "      <td>0</td>\n",
       "    </tr>\n",
       "    <tr>\n",
       "      <th>2</th>\n",
       "      <td>Coritiba</td>\n",
       "      <td>1</td>\n",
       "      <td>1</td>\n",
       "    </tr>\n",
       "    <tr>\n",
       "      <th>3</th>\n",
       "      <td>Paysandu</td>\n",
       "      <td>2</td>\n",
       "      <td>2</td>\n",
       "    </tr>\n",
       "    <tr>\n",
       "      <th>4</th>\n",
       "      <td>Ponte Preta</td>\n",
       "      <td>1</td>\n",
       "      <td>1</td>\n",
       "    </tr>\n",
       "  </tbody>\n",
       "</table>\n",
       "</div>"
      ],
      "text/plain": [
       "          Time  GolsTomados  GolsFeitos\n",
       "0        Vasco            4           2\n",
       "1       Gremio            2           0\n",
       "2     Coritiba            1           1\n",
       "3     Paysandu            2           2\n",
       "4  Ponte Preta            1           1"
      ]
     },
     "execution_count": 11,
     "metadata": {},
     "output_type": "execute_result"
    }
   ],
   "source": [
    "df_mandante = df_mandante.rename(columns={'mandante': 'Time','mandante_Placar': 'GolsFeitos','visitante_Placar': 'GolsTomados'})\n",
    "df_visitante = df_visitante.rename(columns={'visitante': 'Time','mandante_Placar': 'GolsTomados','visitante_Placar': 'GolsFeitos'})\n",
    "\n",
    "df_visitante.head()"
   ]
  },
  {
   "cell_type": "code",
   "execution_count": 12,
   "id": "f75db36e",
   "metadata": {
    "execution": {
     "iopub.execute_input": "2023-10-10T01:52:37.692819Z",
     "iopub.status.busy": "2023-10-10T01:52:37.691715Z",
     "iopub.status.idle": "2023-10-10T01:52:37.701802Z",
     "shell.execute_reply": "2023-10-10T01:52:37.700666Z"
    },
    "papermill": {
     "duration": 0.019321,
     "end_time": "2023-10-10T01:52:37.704164",
     "exception": false,
     "start_time": "2023-10-10T01:52:37.684843",
     "status": "completed"
    },
    "tags": []
   },
   "outputs": [
    {
     "data": {
      "text/html": [
       "<div>\n",
       "<style scoped>\n",
       "    .dataframe tbody tr th:only-of-type {\n",
       "        vertical-align: middle;\n",
       "    }\n",
       "\n",
       "    .dataframe tbody tr th {\n",
       "        vertical-align: top;\n",
       "    }\n",
       "\n",
       "    .dataframe thead th {\n",
       "        text-align: right;\n",
       "    }\n",
       "</style>\n",
       "<table border=\"1\" class=\"dataframe\">\n",
       "  <thead>\n",
       "    <tr style=\"text-align: right;\">\n",
       "      <th></th>\n",
       "      <th>Time</th>\n",
       "      <th>GolsFeitos</th>\n",
       "      <th>GolsTomados</th>\n",
       "    </tr>\n",
       "  </thead>\n",
       "  <tbody>\n",
       "    <tr>\n",
       "      <th>0</th>\n",
       "      <td>Guarani</td>\n",
       "      <td>4</td>\n",
       "      <td>2</td>\n",
       "    </tr>\n",
       "    <tr>\n",
       "      <th>1</th>\n",
       "      <td>Athletico-PR</td>\n",
       "      <td>2</td>\n",
       "      <td>0</td>\n",
       "    </tr>\n",
       "    <tr>\n",
       "      <th>2</th>\n",
       "      <td>Flamengo</td>\n",
       "      <td>1</td>\n",
       "      <td>1</td>\n",
       "    </tr>\n",
       "    <tr>\n",
       "      <th>3</th>\n",
       "      <td>Goias</td>\n",
       "      <td>2</td>\n",
       "      <td>2</td>\n",
       "    </tr>\n",
       "    <tr>\n",
       "      <th>4</th>\n",
       "      <td>Internacional</td>\n",
       "      <td>1</td>\n",
       "      <td>1</td>\n",
       "    </tr>\n",
       "  </tbody>\n",
       "</table>\n",
       "</div>"
      ],
      "text/plain": [
       "            Time  GolsFeitos  GolsTomados\n",
       "0        Guarani           4            2\n",
       "1   Athletico-PR           2            0\n",
       "2       Flamengo           1            1\n",
       "3          Goias           2            2\n",
       "4  Internacional           1            1"
      ]
     },
     "execution_count": 12,
     "metadata": {},
     "output_type": "execute_result"
    }
   ],
   "source": [
    "df_mandante.head()"
   ]
  },
  {
   "cell_type": "code",
   "execution_count": 13,
   "id": "b33c2df7",
   "metadata": {
    "execution": {
     "iopub.execute_input": "2023-10-10T01:52:37.718329Z",
     "iopub.status.busy": "2023-10-10T01:52:37.717272Z",
     "iopub.status.idle": "2023-10-10T01:52:37.722234Z",
     "shell.execute_reply": "2023-10-10T01:52:37.721363Z"
    },
    "papermill": {
     "duration": 0.014394,
     "end_time": "2023-10-10T01:52:37.724464",
     "exception": false,
     "start_time": "2023-10-10T01:52:37.710070",
     "status": "completed"
    },
    "tags": []
   },
   "outputs": [],
   "source": [
    "times = [\n",
    "\"Botafogo\",\n",
    "\"Bragantino\",\n",
    "\"Grêmio\",\n",
    "\"Palmeiras\",\n",
    "\"Flamengo\",\n",
    "\"Fortaleza\",\n",
    "\"Fluminense\",\n",
    "\"Athletico-PR\",\n",
    "\"Atlético-MG\",\n",
    "\"São Paulo\",\n",
    "\"Cuiabá\",\n",
    "\"Internacional\",\n",
    "\"Corinthians\",\n",
    "\"Santos\",\n",
    "\"Cruzeiro\",\n",
    "\"Bahia\",\n",
    "\"Vasco\",\n",
    "\"Goiás\",\n",
    "\"Coritiba\",\n",
    "\"América-MG\"\n",
    "]\n",
    "\n"
   ]
  },
  {
   "cell_type": "code",
   "execution_count": 14,
   "id": "d52d5fbc",
   "metadata": {
    "execution": {
     "iopub.execute_input": "2023-10-10T01:52:37.738355Z",
     "iopub.status.busy": "2023-10-10T01:52:37.737717Z",
     "iopub.status.idle": "2023-10-10T01:52:37.811076Z",
     "shell.execute_reply": "2023-10-10T01:52:37.810119Z"
    },
    "papermill": {
     "duration": 0.083401,
     "end_time": "2023-10-10T01:52:37.813703",
     "exception": false,
     "start_time": "2023-10-10T01:52:37.730302",
     "status": "completed"
    },
    "tags": []
   },
   "outputs": [],
   "source": [
    "for i in times:\n",
    "    df_forca_time = pd.concat([df_mandante, df_visitante], ignore_index=True).groupby('Time').mean()"
   ]
  },
  {
   "cell_type": "code",
   "execution_count": 15,
   "id": "8e4de7c6",
   "metadata": {
    "execution": {
     "iopub.execute_input": "2023-10-10T01:52:37.827298Z",
     "iopub.status.busy": "2023-10-10T01:52:37.826588Z",
     "iopub.status.idle": "2023-10-10T01:52:37.835775Z",
     "shell.execute_reply": "2023-10-10T01:52:37.834928Z"
    },
    "papermill": {
     "duration": 0.01831,
     "end_time": "2023-10-10T01:52:37.837930",
     "exception": false,
     "start_time": "2023-10-10T01:52:37.819620",
     "status": "completed"
    },
    "tags": []
   },
   "outputs": [],
   "source": [
    "df_forca_time = pd.concat([df_mandante, df_visitante], ignore_index=True).groupby('Time').mean()"
   ]
  },
  {
   "cell_type": "code",
   "execution_count": 16,
   "id": "e451c834",
   "metadata": {
    "execution": {
     "iopub.execute_input": "2023-10-10T01:52:37.851010Z",
     "iopub.status.busy": "2023-10-10T01:52:37.850623Z",
     "iopub.status.idle": "2023-10-10T01:52:37.863615Z",
     "shell.execute_reply": "2023-10-10T01:52:37.862566Z"
    },
    "papermill": {
     "duration": 0.021902,
     "end_time": "2023-10-10T01:52:37.865652",
     "exception": false,
     "start_time": "2023-10-10T01:52:37.843750",
     "status": "completed"
    },
    "tags": []
   },
   "outputs": [
    {
     "data": {
      "text/html": [
       "<div>\n",
       "<style scoped>\n",
       "    .dataframe tbody tr th:only-of-type {\n",
       "        vertical-align: middle;\n",
       "    }\n",
       "\n",
       "    .dataframe tbody tr th {\n",
       "        vertical-align: top;\n",
       "    }\n",
       "\n",
       "    .dataframe thead th {\n",
       "        text-align: right;\n",
       "    }\n",
       "</style>\n",
       "<table border=\"1\" class=\"dataframe\">\n",
       "  <thead>\n",
       "    <tr style=\"text-align: right;\">\n",
       "      <th></th>\n",
       "      <th>GolsFeitos</th>\n",
       "      <th>GolsTomados</th>\n",
       "    </tr>\n",
       "    <tr>\n",
       "      <th>Time</th>\n",
       "      <th></th>\n",
       "      <th></th>\n",
       "    </tr>\n",
       "  </thead>\n",
       "  <tbody>\n",
       "    <tr>\n",
       "      <th>America-MG</th>\n",
       "      <td>0.995614</td>\n",
       "      <td>1.456140</td>\n",
       "    </tr>\n",
       "    <tr>\n",
       "      <th>America-RN</th>\n",
       "      <td>0.631579</td>\n",
       "      <td>2.105263</td>\n",
       "    </tr>\n",
       "    <tr>\n",
       "      <th>Athletico-PR</th>\n",
       "      <td>1.323077</td>\n",
       "      <td>1.237179</td>\n",
       "    </tr>\n",
       "    <tr>\n",
       "      <th>Atletico-GO</th>\n",
       "      <td>1.082707</td>\n",
       "      <td>1.364662</td>\n",
       "    </tr>\n",
       "    <tr>\n",
       "      <th>Atletico-MG</th>\n",
       "      <td>1.451861</td>\n",
       "      <td>1.255456</td>\n",
       "    </tr>\n",
       "    <tr>\n",
       "      <th>Avai</th>\n",
       "      <td>1.030075</td>\n",
       "      <td>1.560150</td>\n",
       "    </tr>\n",
       "    <tr>\n",
       "      <th>Bahia</th>\n",
       "      <td>1.126761</td>\n",
       "      <td>1.326291</td>\n",
       "    </tr>\n",
       "    <tr>\n",
       "      <th>Barueri</th>\n",
       "      <td>1.552632</td>\n",
       "      <td>1.368421</td>\n",
       "    </tr>\n",
       "    <tr>\n",
       "      <th>Botafogo-RJ</th>\n",
       "      <td>1.258621</td>\n",
       "      <td>1.265805</td>\n",
       "    </tr>\n",
       "    <tr>\n",
       "      <th>Bragantino</th>\n",
       "      <td>1.335526</td>\n",
       "      <td>1.184211</td>\n",
       "    </tr>\n",
       "    <tr>\n",
       "      <th>Brasiliense</th>\n",
       "      <td>1.166667</td>\n",
       "      <td>1.619048</td>\n",
       "    </tr>\n",
       "    <tr>\n",
       "      <th>CSA</th>\n",
       "      <td>0.631579</td>\n",
       "      <td>1.526316</td>\n",
       "    </tr>\n",
       "    <tr>\n",
       "      <th>Ceara</th>\n",
       "      <td>1.041353</td>\n",
       "      <td>1.191729</td>\n",
       "    </tr>\n",
       "    <tr>\n",
       "      <th>Chapecoense</th>\n",
       "      <td>0.984906</td>\n",
       "      <td>1.354717</td>\n",
       "    </tr>\n",
       "    <tr>\n",
       "      <th>Corinthians</th>\n",
       "      <td>1.280769</td>\n",
       "      <td>1.066667</td>\n",
       "    </tr>\n",
       "    <tr>\n",
       "      <th>Coritiba</th>\n",
       "      <td>1.174576</td>\n",
       "      <td>1.333898</td>\n",
       "    </tr>\n",
       "    <tr>\n",
       "      <th>Criciuma</th>\n",
       "      <td>1.154762</td>\n",
       "      <td>1.571429</td>\n",
       "    </tr>\n",
       "    <tr>\n",
       "      <th>Cruzeiro</th>\n",
       "      <td>1.438920</td>\n",
       "      <td>1.207386</td>\n",
       "    </tr>\n",
       "    <tr>\n",
       "      <th>Cuiaba</th>\n",
       "      <td>0.921053</td>\n",
       "      <td>1.035088</td>\n",
       "    </tr>\n",
       "    <tr>\n",
       "      <th>Figueirense</th>\n",
       "      <td>1.210046</td>\n",
       "      <td>1.420091</td>\n",
       "    </tr>\n",
       "    <tr>\n",
       "      <th>Flamengo</th>\n",
       "      <td>1.429095</td>\n",
       "      <td>1.176039</td>\n",
       "    </tr>\n",
       "    <tr>\n",
       "      <th>Fluminense</th>\n",
       "      <td>1.342298</td>\n",
       "      <td>1.261614</td>\n",
       "    </tr>\n",
       "    <tr>\n",
       "      <th>Fortaleza</th>\n",
       "      <td>1.183544</td>\n",
       "      <td>1.332278</td>\n",
       "    </tr>\n",
       "    <tr>\n",
       "      <th>Goias</th>\n",
       "      <td>1.337288</td>\n",
       "      <td>1.422034</td>\n",
       "    </tr>\n",
       "    <tr>\n",
       "      <th>Gremio</th>\n",
       "      <td>1.380759</td>\n",
       "      <td>1.130081</td>\n",
       "    </tr>\n",
       "    <tr>\n",
       "      <th>Gremio Prudente</th>\n",
       "      <td>1.026316</td>\n",
       "      <td>1.684211</td>\n",
       "    </tr>\n",
       "    <tr>\n",
       "      <th>Guarani</th>\n",
       "      <td>1.076923</td>\n",
       "      <td>1.384615</td>\n",
       "    </tr>\n",
       "    <tr>\n",
       "      <th>Internacional</th>\n",
       "      <td>1.334615</td>\n",
       "      <td>1.092308</td>\n",
       "    </tr>\n",
       "    <tr>\n",
       "      <th>Ipatinga</th>\n",
       "      <td>0.973684</td>\n",
       "      <td>1.763158</td>\n",
       "    </tr>\n",
       "    <tr>\n",
       "      <th>Joinville</th>\n",
       "      <td>0.684211</td>\n",
       "      <td>1.263158</td>\n",
       "    </tr>\n",
       "    <tr>\n",
       "      <th>Juventude</th>\n",
       "      <td>1.164336</td>\n",
       "      <td>1.538462</td>\n",
       "    </tr>\n",
       "    <tr>\n",
       "      <th>Nautico</th>\n",
       "      <td>1.178947</td>\n",
       "      <td>1.673684</td>\n",
       "    </tr>\n",
       "    <tr>\n",
       "      <th>Palmeiras</th>\n",
       "      <td>1.467302</td>\n",
       "      <td>1.144414</td>\n",
       "    </tr>\n",
       "    <tr>\n",
       "      <th>Parana</th>\n",
       "      <td>1.258065</td>\n",
       "      <td>1.487903</td>\n",
       "    </tr>\n",
       "    <tr>\n",
       "      <th>Paysandu</th>\n",
       "      <td>1.440299</td>\n",
       "      <td>1.828358</td>\n",
       "    </tr>\n",
       "    <tr>\n",
       "      <th>Ponte Preta</th>\n",
       "      <td>1.143646</td>\n",
       "      <td>1.475138</td>\n",
       "    </tr>\n",
       "    <tr>\n",
       "      <th>Portuguesa</th>\n",
       "      <td>1.201754</td>\n",
       "      <td>1.377193</td>\n",
       "    </tr>\n",
       "    <tr>\n",
       "      <th>Santa Cruz</th>\n",
       "      <td>1.131579</td>\n",
       "      <td>1.907895</td>\n",
       "    </tr>\n",
       "    <tr>\n",
       "      <th>Santo Andre</th>\n",
       "      <td>1.210526</td>\n",
       "      <td>1.605263</td>\n",
       "    </tr>\n",
       "    <tr>\n",
       "      <th>Santos</th>\n",
       "      <td>1.440098</td>\n",
       "      <td>1.200489</td>\n",
       "    </tr>\n",
       "    <tr>\n",
       "      <th>Sao Caetano</th>\n",
       "      <td>1.215116</td>\n",
       "      <td>1.156977</td>\n",
       "    </tr>\n",
       "    <tr>\n",
       "      <th>Sao Paulo</th>\n",
       "      <td>1.421760</td>\n",
       "      <td>1.074572</td>\n",
       "    </tr>\n",
       "    <tr>\n",
       "      <th>Sport</th>\n",
       "      <td>1.107656</td>\n",
       "      <td>1.358852</td>\n",
       "    </tr>\n",
       "    <tr>\n",
       "      <th>Vasco</th>\n",
       "      <td>1.254777</td>\n",
       "      <td>1.406051</td>\n",
       "    </tr>\n",
       "    <tr>\n",
       "      <th>Vitoria</th>\n",
       "      <td>1.242424</td>\n",
       "      <td>1.467172</td>\n",
       "    </tr>\n",
       "  </tbody>\n",
       "</table>\n",
       "</div>"
      ],
      "text/plain": [
       "                 GolsFeitos  GolsTomados\n",
       "Time                                    \n",
       "America-MG         0.995614     1.456140\n",
       "America-RN         0.631579     2.105263\n",
       "Athletico-PR       1.323077     1.237179\n",
       "Atletico-GO        1.082707     1.364662\n",
       "Atletico-MG        1.451861     1.255456\n",
       "Avai               1.030075     1.560150\n",
       "Bahia              1.126761     1.326291\n",
       "Barueri            1.552632     1.368421\n",
       "Botafogo-RJ        1.258621     1.265805\n",
       "Bragantino         1.335526     1.184211\n",
       "Brasiliense        1.166667     1.619048\n",
       "CSA                0.631579     1.526316\n",
       "Ceara              1.041353     1.191729\n",
       "Chapecoense        0.984906     1.354717\n",
       "Corinthians        1.280769     1.066667\n",
       "Coritiba           1.174576     1.333898\n",
       "Criciuma           1.154762     1.571429\n",
       "Cruzeiro           1.438920     1.207386\n",
       "Cuiaba             0.921053     1.035088\n",
       "Figueirense        1.210046     1.420091\n",
       "Flamengo           1.429095     1.176039\n",
       "Fluminense         1.342298     1.261614\n",
       "Fortaleza          1.183544     1.332278\n",
       "Goias              1.337288     1.422034\n",
       "Gremio             1.380759     1.130081\n",
       "Gremio Prudente    1.026316     1.684211\n",
       "Guarani            1.076923     1.384615\n",
       "Internacional      1.334615     1.092308\n",
       "Ipatinga           0.973684     1.763158\n",
       "Joinville          0.684211     1.263158\n",
       "Juventude          1.164336     1.538462\n",
       "Nautico            1.178947     1.673684\n",
       "Palmeiras          1.467302     1.144414\n",
       "Parana             1.258065     1.487903\n",
       "Paysandu           1.440299     1.828358\n",
       "Ponte Preta        1.143646     1.475138\n",
       "Portuguesa         1.201754     1.377193\n",
       "Santa Cruz         1.131579     1.907895\n",
       "Santo Andre        1.210526     1.605263\n",
       "Santos             1.440098     1.200489\n",
       "Sao Caetano        1.215116     1.156977\n",
       "Sao Paulo          1.421760     1.074572\n",
       "Sport              1.107656     1.358852\n",
       "Vasco              1.254777     1.406051\n",
       "Vitoria            1.242424     1.467172"
      ]
     },
     "execution_count": 16,
     "metadata": {},
     "output_type": "execute_result"
    }
   ],
   "source": [
    "df_forca_time"
   ]
  },
  {
   "cell_type": "code",
   "execution_count": 17,
   "id": "14b30677",
   "metadata": {
    "execution": {
     "iopub.execute_input": "2023-10-10T01:52:37.880579Z",
     "iopub.status.busy": "2023-10-10T01:52:37.879619Z",
     "iopub.status.idle": "2023-10-10T01:52:37.887518Z",
     "shell.execute_reply": "2023-10-10T01:52:37.886337Z"
    },
    "papermill": {
     "duration": 0.01795,
     "end_time": "2023-10-10T01:52:37.890033",
     "exception": false,
     "start_time": "2023-10-10T01:52:37.872083",
     "status": "completed"
    },
    "tags": []
   },
   "outputs": [],
   "source": [
    "def predict_points(mandante, visitante):\n",
    "    if mandante in df_forca_time.index and visitante in df_forca_time.index:\n",
    "        lamb_mandante = df_forca_time.at[mandante,'GolsFeitos'] * df_forca_time.at[visitante,'GolsTomados'] \n",
    "        lamb_visitante = df_forca_time.at[visitante,'GolsFeitos'] * df_forca_time.at[mandante,'GolsTomados']\n",
    "        prob_mandante, prob_visitante, prob_empate = 0, 0, 0\n",
    "        for x in range(0,11):\n",
    "            for y in range(0, 11):\n",
    "                p = poisson.pmf(x, lamb_mandante) * poisson.pmf(y, lamb_visitante)\n",
    "                if x == y:\n",
    "                    prob_empate += p\n",
    "                elif x > y:\n",
    "                    prob_mandante += p\n",
    "                else:\n",
    "                    prob_visitante += p\n",
    "\n",
    "        pontos_mandante = 3 * prob_mandante + prob_empate\n",
    "        pontos_visitante = 3 * prob_visitante + prob_empate\n",
    "        return (pontos_mandante, pontos_visitante)\n",
    "    \n",
    "    else:\n",
    "        return (0, 0)"
   ]
  },
  {
   "cell_type": "markdown",
   "id": "5f9b82cb",
   "metadata": {
    "papermill": {
     "duration": 0.005976,
     "end_time": "2023-10-10T01:52:37.902430",
     "exception": false,
     "start_time": "2023-10-10T01:52:37.896454",
     "status": "completed"
    },
    "tags": []
   },
   "source": [
    "**Previsão Campeonato 2023**"
   ]
  },
  {
   "cell_type": "code",
   "execution_count": 18,
   "id": "48b6ec82",
   "metadata": {
    "execution": {
     "iopub.execute_input": "2023-10-10T01:52:37.917162Z",
     "iopub.status.busy": "2023-10-10T01:52:37.916642Z",
     "iopub.status.idle": "2023-10-10T01:52:41.756165Z",
     "shell.execute_reply": "2023-10-10T01:52:41.755197Z"
    },
    "papermill": {
     "duration": 3.850065,
     "end_time": "2023-10-10T01:52:41.758768",
     "exception": false,
     "start_time": "2023-10-10T01:52:37.908703",
     "status": "completed"
    },
    "tags": []
   },
   "outputs": [
    {
     "name": "stdout",
     "output_type": "stream",
     "text": [
      "             Team  Points\n",
      "0       Palmeiras      86\n",
      "1   Internacional      80\n",
      "2        Flamengo      74\n",
      "3     Corinthians      68\n",
      "4          Santos      62\n",
      "5        Cruzeiro      56\n",
      "6      Bragantino      50\n",
      "7    Athletico-PR      44\n",
      "8        Botafogo      38\n",
      "9           Goiás      38\n",
      "10         Cuiabá      38\n",
      "11      São Paulo      38\n",
      "12    Atlético-MG      38\n",
      "13     Fluminense      38\n",
      "14         Grêmio      38\n",
      "15     América-MG      38\n",
      "16          Vasco      32\n",
      "17      Fortaleza      26\n",
      "18       Coritiba      20\n",
      "19          Bahia      14\n"
     ]
    }
   ],
   "source": [
    "teams_to_include = [\n",
    "    \"Botafogo\", \"Bragantino\", \"Grêmio\", \"Palmeiras\", \"Flamengo\",\n",
    "    \"Fortaleza\", \"Fluminense\", \"Athletico-PR\", \"Atlético-MG\",\n",
    "    \"São Paulo\", \"Cuiabá\", \"Internacional\", \"Corinthians\",\n",
    "    \"Santos\", \"Cruzeiro\", \"Bahia\", \"Vasco\", \"Goiás\", \"Coritiba\", \"América-MG\"\n",
    "]\n",
    "\n",
    "team_points = {team: 0 for team in teams_to_include}\n",
    "\n",
    "for home_team, away_team in itertools.permutations(teams_to_include, 2):\n",
    "    home_points, away_points = predict_points(home_team, away_team)\n",
    "    \n",
    "    if home_points > away_points:\n",
    "        team_points[home_team] += 3  # Home team wins\n",
    "    elif home_points == away_points:\n",
    "        team_points[home_team] += 1  # Match ends in a draw\n",
    "        team_points[away_team] += 1\n",
    "    else:\n",
    "        team_points[away_team] += 3  # Away team wins\n",
    "\n",
    "final_table = pd.DataFrame(list(team_points.items()), columns=['Team', 'Points'])\n",
    "\n",
    "final_table = final_table.sort_values(by='Points', ascending=False)\n",
    "\n",
    "final_table.reset_index(drop=True, inplace=True)\n",
    "\n",
    "print(final_table)\n"
   ]
  }
 ],
 "metadata": {
  "kernelspec": {
   "display_name": "Python 3 (ipykernel)",
   "language": "python",
   "name": "python3"
  },
  "language_info": {
   "codemirror_mode": {
    "name": "ipython",
    "version": 3
   },
   "file_extension": ".py",
   "mimetype": "text/x-python",
   "name": "python",
   "nbconvert_exporter": "python",
   "pygments_lexer": "ipython3",
   "version": "3.11.5"
  },
  "papermill": {
   "default_parameters": {},
   "duration": 10.412153,
   "end_time": "2023-10-10T01:52:42.385603",
   "environment_variables": {},
   "exception": null,
   "input_path": "__notebook__.ipynb",
   "output_path": "__notebook__.ipynb",
   "parameters": {},
   "start_time": "2023-10-10T01:52:31.973450",
   "version": "2.4.0"
  }
 },
 "nbformat": 4,
 "nbformat_minor": 5
}
